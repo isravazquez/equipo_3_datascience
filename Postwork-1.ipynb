{
  "nbformat": 4,
  "nbformat_minor": 0,
  "metadata": {
    "colab": {
      "name": "Postwork 1.ipynb",
      "provenance": [],
      "collapsed_sections": [],
      "authorship_tag": "ABX9TyMkdjO9VU/nkUDCFyFnfB1a",
      "include_colab_link": true
    },
    "kernelspec": {
      "name": "ir",
      "display_name": "R"
    },
    "language_info": {
      "name": "R"
    }
  },
  "cells": [
    {
      "cell_type": "markdown",
      "metadata": {
        "id": "view-in-github",
        "colab_type": "text"
      },
      "source": [
        "<a href=\"https://colab.research.google.com/github/isravazquez/equipo_3_datascience/blob/master/Postwork-1.ipynb\" target=\"_parent\"><img src=\"https://colab.research.google.com/assets/colab-badge.svg\" alt=\"Open In Colab\"/></a>"
      ]
    },
    {
      "cell_type": "markdown",
      "metadata": {
        "id": "E5D1JX44tIZi"
      },
      "source": [
        "# Postwork 1\n",
        "\n",
        "## Data Science on Bedu\n",
        "\n",
        "## Integrantes:\n",
        "* Arriaga Palma Fernando, arriaga141@gmail.com\n",
        "* Hernández Angulo Juan de Jesus, jhernandezangulo@gmail.com\n",
        "* Martínez Ibarra Hugo, hugomtzib@gmail.com\n",
        "* Moreno Abrego Bryan Daniel, abre.go@outlook.com\n",
        "* Silva Tijerina Gilberto, gilberto.silvat2812@gmail.com\n",
        "* Vazquez Bernal Jaime Israel, israfullshot@gmail.com\n",
        "\n",
        "Importa los datos de soccer de la temporada 2019/2020 de la primera división de la liga española a R"
      ]
    },
    {
      "cell_type": "code",
      "metadata": {
        "id": "HeOmS6EHwVr2"
      },
      "source": [
        "data_soccer <- read.csv(\"https://www.football-data.co.uk/mmz4281/1920/SP1.csv\") "
      ],
      "execution_count": 1,
      "outputs": []
    },
    {
      "cell_type": "markdown",
      "metadata": {
        "id": "U85RpOGnwboo"
      },
      "source": [
        "Del data frame que resulta de importar los datos a R, extrae las columnas que contienen los números de goles anotados por los equipos que jugaron en casa (FTHG) y los goles anotados por los equipos que jugaron como visitante (FTAG)"
      ]
    },
    {
      "cell_type": "code",
      "metadata": {
        "id": "-xLVGoRrwiQE"
      },
      "source": [
        "data_scores <- data.frame(\"Local_x\" = data_soccer$FTHG, \"Visitante_y\" = data_soccer$FTAG)"
      ],
      "execution_count": 2,
      "outputs": []
    },
    {
      "cell_type": "markdown",
      "metadata": {
        "id": "Vyc2rs7Owbv-"
      },
      "source": [
        "Consulta cómo funciona la función table en R al ejecutar en la consola `?table`"
      ]
    },
    {
      "cell_type": "code",
      "metadata": {
        "id": "j8v9STOXxafp"
      },
      "source": [
        "?table"
      ],
      "execution_count": 3,
      "outputs": []
    },
    {
      "cell_type": "markdown",
      "metadata": {
        "id": "Rbbz-NccyxmQ"
      },
      "source": [
        "Posteriormente elabora tablas de frecuencias relativas para estimar las probabilidades siguientes."
      ]
    },
    {
      "cell_type": "code",
      "metadata": {
        "colab": {
          "base_uri": "https://localhost:8080/",
          "height": 170
        },
        "id": "M8ZvyCb_1NXp",
        "outputId": "659051cb-58b4-4ae7-bc8c-bfc15ccdf1b5"
      },
      "source": [
        "(table_scores <- table(data_scores))"
      ],
      "execution_count": 4,
      "outputs": [
        {
          "output_type": "display_data",
          "data": {
            "text/plain": [
              "       Visitante_y\n",
              "Local_x  0  1  2  3  4  5\n",
              "      0 33 28 15  8  2  2\n",
              "      1 43 49 32  5  3  0\n",
              "      2 39 35 20  3  2  0\n",
              "      3 14 14  7  2  1  0\n",
              "      4  4  5  4  0  1  0\n",
              "      5  2  3  3  0  0  0\n",
              "      6  1  0  0  0  0  0"
            ]
          },
          "metadata": {
            "tags": []
          }
        }
      ]
    },
    {
      "cell_type": "markdown",
      "metadata": {
        "id": "im4jKujh1Nhe"
      },
      "source": [
        "Lo anterior crea una tabla de frecuencias por cada número de goles \"x\" anotado por equipo que jugaron en casa (lado izquierdo) y la frecuencia del número de goles \"y\" anotados por equipos que jugaron como visitantes (lado superior).\n",
        "\n",
        "Eventos totales. Notar que coincide precisamente con el número total de partidos, lo cual es correcto."
      ]
    },
    {
      "cell_type": "code",
      "metadata": {
        "colab": {
          "base_uri": "https://localhost:8080/",
          "height": 34
        },
        "id": "J5lynRCt1a2u",
        "outputId": "afaf72bb-3a2c-45d5-d961-212cf91e8a6e"
      },
      "source": [
        "sum(table_scores) == dim(data_soccer)[1]"
      ],
      "execution_count": 5,
      "outputs": [
        {
          "output_type": "display_data",
          "data": {
            "text/plain": [
              "[1] TRUE"
            ],
            "text/latex": "TRUE",
            "text/markdown": "TRUE",
            "text/html": [
              "TRUE"
            ]
          },
          "metadata": {
            "tags": []
          }
        }
      ]
    },
    {
      "cell_type": "markdown",
      "metadata": {
        "id": "-FvbpftU1zjw"
      },
      "source": [
        "Se construye la tabla de frecuencias. Esto crea la tabla de frecuencias relativas al calcular las proporciones."
      ]
    },
    {
      "cell_type": "code",
      "metadata": {
        "colab": {
          "base_uri": "https://localhost:8080/",
          "height": 170
        },
        "id": "oi6jDE5G13XI",
        "outputId": "606181b3-da7f-49b1-8c7f-1fb78d823945"
      },
      "source": [
        "(joint_prob <- prop.table(table_scores))"
      ],
      "execution_count": 6,
      "outputs": [
        {
          "output_type": "display_data",
          "data": {
            "text/plain": [
              "       Visitante_y\n",
              "Local_x           0           1           2           3           4           5\n",
              "      0 0.086842105 0.073684211 0.039473684 0.021052632 0.005263158 0.005263158\n",
              "      1 0.113157895 0.128947368 0.084210526 0.013157895 0.007894737 0.000000000\n",
              "      2 0.102631579 0.092105263 0.052631579 0.007894737 0.005263158 0.000000000\n",
              "      3 0.036842105 0.036842105 0.018421053 0.005263158 0.002631579 0.000000000\n",
              "      4 0.010526316 0.013157895 0.010526316 0.000000000 0.002631579 0.000000000\n",
              "      5 0.005263158 0.007894737 0.007894737 0.000000000 0.000000000 0.000000000\n",
              "      6 0.002631579 0.000000000 0.000000000 0.000000000 0.000000000 0.000000000"
            ]
          },
          "metadata": {
            "tags": []
          }
        }
      ]
    },
    {
      "cell_type": "markdown",
      "metadata": {
        "id": "4RD4f6U014Ts"
      },
      "source": [
        "En esta tabla cada celda/entrada ya representa la probabilidad (conjunta) de que el equipo que juega en casa anote \"x\" goles y el equipo que juega como visitante anote \"y\" goles (x = 0, 1, 2, ..., y = 0, 1, 2, ...)"
      ]
    },
    {
      "cell_type": "markdown",
      "metadata": {
        "id": "GTLaxy5j2A3s"
      },
      "source": [
        "Para calcular la probabilidad (marginal) de que el equipo que juega en casa anote \"x\" goles (x = 0, 1, 2, ...) es suficiente con realizar las sumas por renglón; es decir, para cada número x de goles anotados por el equipo que juega en casa."
      ]
    },
    {
      "cell_type": "code",
      "metadata": {
        "colab": {
          "base_uri": "https://localhost:8080/",
          "height": 34
        },
        "id": "1pW-t14X2DW3",
        "outputId": "96f24b2d-1f2e-4535-f249-0835c5192e51"
      },
      "source": [
        "(marginal_prob_home <- rowSums(joint_prob))"
      ],
      "execution_count": 7,
      "outputs": [
        {
          "output_type": "display_data",
          "data": {
            "text/plain": [
              "          0           1           2           3           4           5 \n",
              "0.231578947 0.347368421 0.260526316 0.100000000 0.036842105 0.021052632 \n",
              "          6 \n",
              "0.002631579 "
            ],
            "text/latex": "\\begin{description*}\n\\item[0] 0.231578947368421\n\\item[1] 0.347368421052632\n\\item[2] 0.260526315789474\n\\item[3] 0.1\n\\item[4] 0.0368421052631579\n\\item[5] 0.0210526315789474\n\\item[6] 0.00263157894736842\n\\end{description*}\n",
            "text/markdown": "0\n:   0.2315789473684211\n:   0.3473684210526322\n:   0.2605263157894743\n:   0.14\n:   0.03684210526315795\n:   0.02105263157894746\n:   0.00263157894736842\n\n",
            "text/html": [
              "<style>\n",
              ".dl-inline {width: auto; margin:0; padding: 0}\n",
              ".dl-inline>dt, .dl-inline>dd {float: none; width: auto; display: inline-block}\n",
              ".dl-inline>dt::after {content: \":\\0020\"; padding-right: .5ex}\n",
              ".dl-inline>dt:not(:first-of-type) {padding-left: .5ex}\n",
              "</style><dl class=dl-inline><dt>0</dt><dd>0.231578947368421</dd><dt>1</dt><dd>0.347368421052632</dd><dt>2</dt><dd>0.260526315789474</dd><dt>3</dt><dd>0.1</dd><dt>4</dt><dd>0.0368421052631579</dd><dt>5</dt><dd>0.0210526315789474</dd><dt>6</dt><dd>0.00263157894736842</dd></dl>\n"
            ]
          },
          "metadata": {
            "tags": []
          }
        }
      ]
    },
    {
      "cell_type": "markdown",
      "metadata": {
        "id": "xCMp7ArG3X8y"
      },
      "source": [
        "Para calcular La probabilidad (marginal) de que el equipo que juega como visitante anote y goles (y = 0, 1, 2, ...) es suficiente con realizar las sumas por columna; es decir, para cada número y de goles anotados por el equipo que juega como visitante."
      ]
    },
    {
      "cell_type": "code",
      "metadata": {
        "colab": {
          "base_uri": "https://localhost:8080/",
          "height": 34
        },
        "id": "IC7nUpa53a2z",
        "outputId": "8f81b747-e434-4320-a548-d7613619cc78"
      },
      "source": [
        "(marginal_prob_away <- colSums(joint_prob))"
      ],
      "execution_count": 8,
      "outputs": [
        {
          "output_type": "display_data",
          "data": {
            "text/plain": [
              "          0           1           2           3           4           5 \n",
              "0.357894737 0.352631579 0.213157895 0.047368421 0.023684211 0.005263158 "
            ],
            "text/latex": "\\begin{description*}\n\\item[0] 0.357894736842105\n\\item[1] 0.352631578947368\n\\item[2] 0.213157894736842\n\\item[3] 0.0473684210526316\n\\item[4] 0.0236842105263158\n\\item[5] 0.00526315789473684\n\\end{description*}\n",
            "text/markdown": "0\n:   0.3578947368421051\n:   0.3526315789473682\n:   0.2131578947368423\n:   0.04736842105263164\n:   0.02368421052631585\n:   0.00526315789473684\n\n",
            "text/html": [
              "<style>\n",
              ".dl-inline {width: auto; margin:0; padding: 0}\n",
              ".dl-inline>dt, .dl-inline>dd {float: none; width: auto; display: inline-block}\n",
              ".dl-inline>dt::after {content: \":\\0020\"; padding-right: .5ex}\n",
              ".dl-inline>dt:not(:first-of-type) {padding-left: .5ex}\n",
              "</style><dl class=dl-inline><dt>0</dt><dd>0.357894736842105</dd><dt>1</dt><dd>0.352631578947368</dd><dt>2</dt><dd>0.213157894736842</dd><dt>3</dt><dd>0.0473684210526316</dd><dt>4</dt><dd>0.0236842105263158</dd><dt>5</dt><dd>0.00526315789473684</dd></dl>\n"
            ]
          },
          "metadata": {
            "tags": []
          }
        }
      ]
    },
    {
      "cell_type": "markdown",
      "metadata": {
        "id": "0oWXQ6pW3dFo"
      },
      "source": [
        "Se puede contruir una tabla que considere todos los resultados anteriores."
      ]
    },
    {
      "cell_type": "code",
      "metadata": {
        "colab": {
          "base_uri": "https://localhost:8080/",
          "height": 283
        },
        "id": "BGFi6LLM3e0-",
        "outputId": "499a9e9f-0970-406c-ba79-0bee821fc565"
      },
      "source": [
        "(summary_table_probs <- cbind(joint_prob, marginal_prob_home))"
      ],
      "execution_count": 9,
      "outputs": [
        {
          "output_type": "display_data",
          "data": {
            "text/plain": [
              "  0           1           2           3           4           5          \n",
              "0 0.086842105 0.073684211 0.039473684 0.021052632 0.005263158 0.005263158\n",
              "1 0.113157895 0.128947368 0.084210526 0.013157895 0.007894737 0.000000000\n",
              "2 0.102631579 0.092105263 0.052631579 0.007894737 0.005263158 0.000000000\n",
              "3 0.036842105 0.036842105 0.018421053 0.005263158 0.002631579 0.000000000\n",
              "4 0.010526316 0.013157895 0.010526316 0.000000000 0.002631579 0.000000000\n",
              "5 0.005263158 0.007894737 0.007894737 0.000000000 0.000000000 0.000000000\n",
              "6 0.002631579 0.000000000 0.000000000 0.000000000 0.000000000 0.000000000\n",
              "  marginal_prob_home\n",
              "0 0.231578947       \n",
              "1 0.347368421       \n",
              "2 0.260526316       \n",
              "3 0.100000000       \n",
              "4 0.036842105       \n",
              "5 0.021052632       \n",
              "6 0.002631579       "
            ],
            "text/latex": "A matrix: 7 × 7 of type dbl\n\\begin{tabular}{r|lllllll}\n  & 0 & 1 & 2 & 3 & 4 & 5 & marginal\\_prob\\_home\\\\\n\\hline\n\t0 & 0.086842105 & 0.073684211 & 0.039473684 & 0.021052632 & 0.005263158 & 0.005263158 & 0.231578947\\\\\n\t1 & 0.113157895 & 0.128947368 & 0.084210526 & 0.013157895 & 0.007894737 & 0.000000000 & 0.347368421\\\\\n\t2 & 0.102631579 & 0.092105263 & 0.052631579 & 0.007894737 & 0.005263158 & 0.000000000 & 0.260526316\\\\\n\t3 & 0.036842105 & 0.036842105 & 0.018421053 & 0.005263158 & 0.002631579 & 0.000000000 & 0.100000000\\\\\n\t4 & 0.010526316 & 0.013157895 & 0.010526316 & 0.000000000 & 0.002631579 & 0.000000000 & 0.036842105\\\\\n\t5 & 0.005263158 & 0.007894737 & 0.007894737 & 0.000000000 & 0.000000000 & 0.000000000 & 0.021052632\\\\\n\t6 & 0.002631579 & 0.000000000 & 0.000000000 & 0.000000000 & 0.000000000 & 0.000000000 & 0.002631579\\\\\n\\end{tabular}\n",
            "text/markdown": "\nA matrix: 7 × 7 of type dbl\n\n| <!--/--> | 0 | 1 | 2 | 3 | 4 | 5 | marginal_prob_home |\n|---|---|---|---|---|---|---|---|\n| 0 | 0.086842105 | 0.073684211 | 0.039473684 | 0.021052632 | 0.005263158 | 0.005263158 | 0.231578947 |\n| 1 | 0.113157895 | 0.128947368 | 0.084210526 | 0.013157895 | 0.007894737 | 0.000000000 | 0.347368421 |\n| 2 | 0.102631579 | 0.092105263 | 0.052631579 | 0.007894737 | 0.005263158 | 0.000000000 | 0.260526316 |\n| 3 | 0.036842105 | 0.036842105 | 0.018421053 | 0.005263158 | 0.002631579 | 0.000000000 | 0.100000000 |\n| 4 | 0.010526316 | 0.013157895 | 0.010526316 | 0.000000000 | 0.002631579 | 0.000000000 | 0.036842105 |\n| 5 | 0.005263158 | 0.007894737 | 0.007894737 | 0.000000000 | 0.000000000 | 0.000000000 | 0.021052632 |\n| 6 | 0.002631579 | 0.000000000 | 0.000000000 | 0.000000000 | 0.000000000 | 0.000000000 | 0.002631579 |\n\n",
            "text/html": [
              "<table class=\"dataframe\">\n",
              "<caption>A matrix: 7 × 7 of type dbl</caption>\n",
              "<thead>\n",
              "\t<tr><th></th><th scope=col>0</th><th scope=col>1</th><th scope=col>2</th><th scope=col>3</th><th scope=col>4</th><th scope=col>5</th><th scope=col>marginal_prob_home</th></tr>\n",
              "</thead>\n",
              "<tbody>\n",
              "\t<tr><th scope=row>0</th><td>0.086842105</td><td>0.073684211</td><td>0.039473684</td><td>0.021052632</td><td>0.005263158</td><td>0.005263158</td><td>0.231578947</td></tr>\n",
              "\t<tr><th scope=row>1</th><td>0.113157895</td><td>0.128947368</td><td>0.084210526</td><td>0.013157895</td><td>0.007894737</td><td>0.000000000</td><td>0.347368421</td></tr>\n",
              "\t<tr><th scope=row>2</th><td>0.102631579</td><td>0.092105263</td><td>0.052631579</td><td>0.007894737</td><td>0.005263158</td><td>0.000000000</td><td>0.260526316</td></tr>\n",
              "\t<tr><th scope=row>3</th><td>0.036842105</td><td>0.036842105</td><td>0.018421053</td><td>0.005263158</td><td>0.002631579</td><td>0.000000000</td><td>0.100000000</td></tr>\n",
              "\t<tr><th scope=row>4</th><td>0.010526316</td><td>0.013157895</td><td>0.010526316</td><td>0.000000000</td><td>0.002631579</td><td>0.000000000</td><td>0.036842105</td></tr>\n",
              "\t<tr><th scope=row>5</th><td>0.005263158</td><td>0.007894737</td><td>0.007894737</td><td>0.000000000</td><td>0.000000000</td><td>0.000000000</td><td>0.021052632</td></tr>\n",
              "\t<tr><th scope=row>6</th><td>0.002631579</td><td>0.000000000</td><td>0.000000000</td><td>0.000000000</td><td>0.000000000</td><td>0.000000000</td><td>0.002631579</td></tr>\n",
              "</tbody>\n",
              "</table>\n"
            ]
          },
          "metadata": {
            "tags": []
          }
        }
      ]
    },
    {
      "cell_type": "markdown",
      "metadata": {
        "id": "e8-neqkF3fdf"
      },
      "source": [
        "Se crea un vector necesario para construir la matriz."
      ]
    },
    {
      "cell_type": "code",
      "metadata": {
        "colab": {
          "base_uri": "https://localhost:8080/",
          "height": 34
        },
        "id": "duTxcU-o3hZi",
        "outputId": "049c22cd-7ff2-4333-ff6a-70241d4e8f2a"
      },
      "source": [
        "(marginal_prob_visitor <- c(marginal_prob_away, sum(marginal_prob_home)))"
      ],
      "execution_count": 10,
      "outputs": [
        {
          "output_type": "display_data",
          "data": {
            "text/plain": [
              "          0           1           2           3           4           5 \n",
              "0.357894737 0.352631579 0.213157895 0.047368421 0.023684211 0.005263158 \n",
              "            \n",
              "1.000000000 "
            ],
            "text/latex": "\\begin{description*}\n\\item[0] 0.357894736842105\n\\item[1] 0.352631578947368\n\\item[2] 0.213157894736842\n\\item[3] 0.0473684210526316\n\\item[4] 0.0236842105263158\n\\item[5] 0.00526315789473684\n\\item[7] 1\n\\end{description*}\n",
            "text/markdown": "0\n:   0.3578947368421051\n:   0.3526315789473682\n:   0.2131578947368423\n:   0.04736842105263164\n:   0.02368421052631585\n:   0.005263157894736847\n:   1\n\n",
            "text/html": [
              "<style>\n",
              ".dl-inline {width: auto; margin:0; padding: 0}\n",
              ".dl-inline>dt, .dl-inline>dd {float: none; width: auto; display: inline-block}\n",
              ".dl-inline>dt::after {content: \":\\0020\"; padding-right: .5ex}\n",
              ".dl-inline>dt:not(:first-of-type) {padding-left: .5ex}\n",
              "</style><dl class=dl-inline><dt>0</dt><dd>0.357894736842105</dd><dt>1</dt><dd>0.352631578947368</dd><dt>2</dt><dd>0.213157894736842</dd><dt>3</dt><dd>0.0473684210526316</dd><dt>4</dt><dd>0.0236842105263158</dd><dt>5</dt><dd>0.00526315789473684</dd><dt>7</dt><dd>1</dd></dl>\n"
            ]
          },
          "metadata": {
            "tags": []
          }
        }
      ]
    },
    {
      "cell_type": "markdown",
      "metadata": {
        "id": "GetbUpBJ3i3o"
      },
      "source": [
        "Se termina de crear la tabla, al pegar los datos anteriores."
      ]
    },
    {
      "cell_type": "code",
      "metadata": {
        "colab": {
          "base_uri": "https://localhost:8080/",
          "height": 314
        },
        "id": "mmBBIHlq3kaY",
        "outputId": "23f9db22-f6f8-4897-9573-e024b37357db"
      },
      "source": [
        "(summary_table_probs <- rbind(summary_table_probs, marginal_prob_visitor))"
      ],
      "execution_count": 11,
      "outputs": [
        {
          "output_type": "display_data",
          "data": {
            "text/plain": [
              "                      0           1           2           3          \n",
              "0                     0.086842105 0.073684211 0.039473684 0.021052632\n",
              "1                     0.113157895 0.128947368 0.084210526 0.013157895\n",
              "2                     0.102631579 0.092105263 0.052631579 0.007894737\n",
              "3                     0.036842105 0.036842105 0.018421053 0.005263158\n",
              "4                     0.010526316 0.013157895 0.010526316 0.000000000\n",
              "5                     0.005263158 0.007894737 0.007894737 0.000000000\n",
              "6                     0.002631579 0.000000000 0.000000000 0.000000000\n",
              "marginal_prob_visitor 0.357894737 0.352631579 0.213157895 0.047368421\n",
              "                      4           5           marginal_prob_home\n",
              "0                     0.005263158 0.005263158 0.231578947       \n",
              "1                     0.007894737 0.000000000 0.347368421       \n",
              "2                     0.005263158 0.000000000 0.260526316       \n",
              "3                     0.002631579 0.000000000 0.100000000       \n",
              "4                     0.002631579 0.000000000 0.036842105       \n",
              "5                     0.000000000 0.000000000 0.021052632       \n",
              "6                     0.000000000 0.000000000 0.002631579       \n",
              "marginal_prob_visitor 0.023684211 0.005263158 1.000000000       "
            ],
            "text/latex": "A matrix: 8 × 7 of type dbl\n\\begin{tabular}{r|lllllll}\n  & 0 & 1 & 2 & 3 & 4 & 5 & marginal\\_prob\\_home\\\\\n\\hline\n\t0 & 0.086842105 & 0.073684211 & 0.039473684 & 0.021052632 & 0.005263158 & 0.005263158 & 0.231578947\\\\\n\t1 & 0.113157895 & 0.128947368 & 0.084210526 & 0.013157895 & 0.007894737 & 0.000000000 & 0.347368421\\\\\n\t2 & 0.102631579 & 0.092105263 & 0.052631579 & 0.007894737 & 0.005263158 & 0.000000000 & 0.260526316\\\\\n\t3 & 0.036842105 & 0.036842105 & 0.018421053 & 0.005263158 & 0.002631579 & 0.000000000 & 0.100000000\\\\\n\t4 & 0.010526316 & 0.013157895 & 0.010526316 & 0.000000000 & 0.002631579 & 0.000000000 & 0.036842105\\\\\n\t5 & 0.005263158 & 0.007894737 & 0.007894737 & 0.000000000 & 0.000000000 & 0.000000000 & 0.021052632\\\\\n\t6 & 0.002631579 & 0.000000000 & 0.000000000 & 0.000000000 & 0.000000000 & 0.000000000 & 0.002631579\\\\\n\tmarginal\\_prob\\_visitor & 0.357894737 & 0.352631579 & 0.213157895 & 0.047368421 & 0.023684211 & 0.005263158 & 1.000000000\\\\\n\\end{tabular}\n",
            "text/markdown": "\nA matrix: 8 × 7 of type dbl\n\n| <!--/--> | 0 | 1 | 2 | 3 | 4 | 5 | marginal_prob_home |\n|---|---|---|---|---|---|---|---|\n| 0 | 0.086842105 | 0.073684211 | 0.039473684 | 0.021052632 | 0.005263158 | 0.005263158 | 0.231578947 |\n| 1 | 0.113157895 | 0.128947368 | 0.084210526 | 0.013157895 | 0.007894737 | 0.000000000 | 0.347368421 |\n| 2 | 0.102631579 | 0.092105263 | 0.052631579 | 0.007894737 | 0.005263158 | 0.000000000 | 0.260526316 |\n| 3 | 0.036842105 | 0.036842105 | 0.018421053 | 0.005263158 | 0.002631579 | 0.000000000 | 0.100000000 |\n| 4 | 0.010526316 | 0.013157895 | 0.010526316 | 0.000000000 | 0.002631579 | 0.000000000 | 0.036842105 |\n| 5 | 0.005263158 | 0.007894737 | 0.007894737 | 0.000000000 | 0.000000000 | 0.000000000 | 0.021052632 |\n| 6 | 0.002631579 | 0.000000000 | 0.000000000 | 0.000000000 | 0.000000000 | 0.000000000 | 0.002631579 |\n| marginal_prob_visitor | 0.357894737 | 0.352631579 | 0.213157895 | 0.047368421 | 0.023684211 | 0.005263158 | 1.000000000 |\n\n",
            "text/html": [
              "<table class=\"dataframe\">\n",
              "<caption>A matrix: 8 × 7 of type dbl</caption>\n",
              "<thead>\n",
              "\t<tr><th></th><th scope=col>0</th><th scope=col>1</th><th scope=col>2</th><th scope=col>3</th><th scope=col>4</th><th scope=col>5</th><th scope=col>marginal_prob_home</th></tr>\n",
              "</thead>\n",
              "<tbody>\n",
              "\t<tr><th scope=row>0</th><td>0.086842105</td><td>0.073684211</td><td>0.039473684</td><td>0.021052632</td><td>0.005263158</td><td>0.005263158</td><td>0.231578947</td></tr>\n",
              "\t<tr><th scope=row>1</th><td>0.113157895</td><td>0.128947368</td><td>0.084210526</td><td>0.013157895</td><td>0.007894737</td><td>0.000000000</td><td>0.347368421</td></tr>\n",
              "\t<tr><th scope=row>2</th><td>0.102631579</td><td>0.092105263</td><td>0.052631579</td><td>0.007894737</td><td>0.005263158</td><td>0.000000000</td><td>0.260526316</td></tr>\n",
              "\t<tr><th scope=row>3</th><td>0.036842105</td><td>0.036842105</td><td>0.018421053</td><td>0.005263158</td><td>0.002631579</td><td>0.000000000</td><td>0.100000000</td></tr>\n",
              "\t<tr><th scope=row>4</th><td>0.010526316</td><td>0.013157895</td><td>0.010526316</td><td>0.000000000</td><td>0.002631579</td><td>0.000000000</td><td>0.036842105</td></tr>\n",
              "\t<tr><th scope=row>5</th><td>0.005263158</td><td>0.007894737</td><td>0.007894737</td><td>0.000000000</td><td>0.000000000</td><td>0.000000000</td><td>0.021052632</td></tr>\n",
              "\t<tr><th scope=row>6</th><td>0.002631579</td><td>0.000000000</td><td>0.000000000</td><td>0.000000000</td><td>0.000000000</td><td>0.000000000</td><td>0.002631579</td></tr>\n",
              "\t<tr><th scope=row>marginal_prob_visitor</th><td>0.357894737</td><td>0.352631579</td><td>0.213157895</td><td>0.047368421</td><td>0.023684211</td><td>0.005263158</td><td>1.000000000</td></tr>\n",
              "</tbody>\n",
              "</table>\n"
            ]
          },
          "metadata": {
            "tags": []
          }
        }
      ]
    }
  ]
}