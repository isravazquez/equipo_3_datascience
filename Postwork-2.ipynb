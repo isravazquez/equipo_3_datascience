{
  "nbformat": 4,
  "nbformat_minor": 0,
  "metadata": {
    "colab": {
      "name": "Postwork 2.ipynb",
      "provenance": [],
      "collapsed_sections": [],
      "authorship_tag": "ABX9TyNjT892oDQnr4PZrgeG5aWS",
      "include_colab_link": true
    },
    "kernelspec": {
      "name": "ir",
      "display_name": "R"
    },
    "language_info": {
      "name": "R"
    }
  },
  "cells": [
    {
      "cell_type": "markdown",
      "metadata": {
        "id": "view-in-github",
        "colab_type": "text"
      },
      "source": [
        "<a href=\"https://colab.research.google.com/github/isravazquez/equipo_3_datascience/blob/master/Postwork-2.ipynb\" target=\"_parent\"><img src=\"https://colab.research.google.com/assets/colab-badge.svg\" alt=\"Open In Colab\"/></a>"
      ]
    },
    {
      "cell_type": "markdown",
      "metadata": {
        "id": "I5eCMtIA89IJ"
      },
      "source": [
        "# Postwork 2\n",
        "\n",
        "## Data Science on Bedu\n",
        "\n",
        "## Integrantes:\n",
        "* Arriaga Palma Fernando, arriaga141@gmail.com\n",
        "* Hernández Angulo Juan de Jesus, jhernandezangulo@gmail.com\n",
        "* Martínez Ibarra Hugo, hugomtzib@gmail.com\n",
        "* Moreno Abrego Bryan Daniel, abre.go@outlook.com\n",
        "* Silva Tijerina Gilberto, gilberto.silvat2812@gmail.com\n",
        "* Vazquez Bernal Jaime Israel, israfullshot@gmail.com\n",
        "\n",
        "_Se usará la biblioteca_ `dplyr`"
      ]
    },
    {
      "cell_type": "code",
      "metadata": {
        "colab": {
          "base_uri": "https://localhost:8080/"
        },
        "id": "YaXKbxv7-gGA",
        "outputId": "599d6238-1f56-4341-aa86-285005a04046"
      },
      "source": [
        "library('dplyr')"
      ],
      "execution_count": 1,
      "outputs": [
        {
          "output_type": "stream",
          "text": [
            "\n",
            "Attaching package: ‘dplyr’\n",
            "\n",
            "\n",
            "The following objects are masked from ‘package:stats’:\n",
            "\n",
            "    filter, lag\n",
            "\n",
            "\n",
            "The following objects are masked from ‘package:base’:\n",
            "\n",
            "    intersect, setdiff, setequal, union\n",
            "\n",
            "\n"
          ],
          "name": "stderr"
        }
      ]
    },
    {
      "cell_type": "markdown",
      "metadata": {
        "id": "yXfPRHEl-joN"
      },
      "source": [
        "Ahora vamos a generar un cúmulo de datos mayor al que se tenía, esta es una situación habitual que se puede presentar para complementar un análisis, siempre es importante estar revisando las características o tipos de datos que tenemos, por si es necesario realizar alguna transformación en las variables y poder hacer operaciones aritméticas si es el caso, además de sólo tener presente algunas de las variables, no siempre se requiere el uso de todas para ciertos procesamientos."
      ]
    },
    {
      "cell_type": "markdown",
      "metadata": {
        "id": "4fIRFIhW-sgs"
      },
      "source": [
        "Importa los datos de soccer de las temporadas 2017/2018, 2018/2019 y 2019/2020 de la primera división de la liga española a R, los datos los puedes encontrar en el siguiente enlace:"
      ]
    },
    {
      "cell_type": "code",
      "metadata": {
        "id": "eGyTYcoE-vs4"
      },
      "source": [
        "url1718 <- \"https://www.football-data.co.uk/mmz4281/1718/SP1.csv\"\n",
        "url1819 <- \"https://www.football-data.co.uk/mmz4281/1819/SP1.csv\"\n",
        "url1920 <- \"https://www.football-data.co.uk/mmz4281/1920/SP1.csv\""
      ],
      "execution_count": 2,
      "outputs": []
    },
    {
      "cell_type": "markdown",
      "metadata": {
        "id": "Y6_Wykiv-wn9"
      },
      "source": [
        "NOTA: Modificar la dirección según el caso donde se deseen guardar y leer los archivos."
      ]
    },
    {
      "cell_type": "code",
      "metadata": {
        "id": "jZqJbZp2-2RZ",
        "colab": {
          "base_uri": "https://localhost:8080/",
          "height": 17
        },
        "outputId": "ce8e2e00-e8f9-4a0b-d67d-f4c579500981"
      },
      "source": [
        "if(!dir.exists('./Data')) {\n",
        "  dir.create('./Data')\n",
        "}\n",
        "\n",
        "setwd('./Data')\n",
        "dir()"
      ],
      "execution_count": 3,
      "outputs": [
        {
          "output_type": "display_data",
          "data": {
            "text/plain": [
              "character(0)"
            ],
            "text/latex": "",
            "text/markdown": "",
            "text/html": [
              ""
            ]
          },
          "metadata": {
            "tags": []
          }
        }
      ]
    },
    {
      "cell_type": "markdown",
      "metadata": {
        "id": "gWp18Waf_DnH"
      },
      "source": [
        "_Descargar los ficheros_"
      ]
    },
    {
      "cell_type": "code",
      "metadata": {
        "id": "pcHQ-SPp_Frc"
      },
      "source": [
        "download.file(url = url1920, destfile = \"D-1920.csv\", mode = \"wb\")\n",
        "download.file(url = url1819, destfile = \"D-1819.csv\", mode = \"wb\")\n",
        "download.file(url = url1718, destfile = \"D-1718.csv\", mode = \"wb\")"
      ],
      "execution_count": 4,
      "outputs": []
    },
    {
      "cell_type": "markdown",
      "metadata": {
        "id": "55bEQ6At_LM4"
      },
      "source": [
        "Importa los archivos descargados a R"
      ]
    },
    {
      "cell_type": "code",
      "metadata": {
        "id": "wcgC7hYn_MM4"
      },
      "source": [
        "raw_data <- lapply(dir(), read.csv)"
      ],
      "execution_count": 5,
      "outputs": []
    },
    {
      "cell_type": "markdown",
      "metadata": {
        "id": "YxatV3l2_Pc-"
      },
      "source": [
        "Revisa la estructura de de los _data frames_ al usar las funciones: `str`, `head`, `View` y `summary`. Un ejemplo de visualización sólo para la base de datos \"D-1718.csv\""
      ]
    },
    {
      "cell_type": "code",
      "metadata": {
        "colab": {
          "base_uri": "https://localhost:8080/"
        },
        "id": "6jd8rfaf_UGp",
        "outputId": "6ca505e1-c06a-48ad-c8f7-021c7b217676"
      },
      "source": [
        "str(raw_data[[1]])\n"
      ],
      "execution_count": 6,
      "outputs": [
        {
          "output_type": "stream",
          "text": [
            "'data.frame':\t380 obs. of  64 variables:\n",
            " $ Div       : chr  \"SP1\" \"SP1\" \"SP1\" \"SP1\" ...\n",
            " $ Date      : chr  \"18/08/17\" \"18/08/17\" \"19/08/17\" \"19/08/17\" ...\n",
            " $ HomeTeam  : chr  \"Leganes\" \"Valencia\" \"Celta\" \"Girona\" ...\n",
            " $ AwayTeam  : chr  \"Alaves\" \"Las Palmas\" \"Sociedad\" \"Ath Madrid\" ...\n",
            " $ FTHG      : int  1 1 2 2 1 0 2 0 1 0 ...\n",
            " $ FTAG      : int  0 0 3 2 1 0 0 3 0 1 ...\n",
            " $ FTR       : chr  \"H\" \"H\" \"A\" \"D\" ...\n",
            " $ HTHG      : int  1 1 1 2 1 0 2 0 0 0 ...\n",
            " $ HTAG      : int  0 0 1 0 1 0 0 2 0 0 ...\n",
            " $ HTR       : chr  \"H\" \"H\" \"D\" \"H\" ...\n",
            " $ HS        : int  16 22 16 13 9 12 15 12 14 10 ...\n",
            " $ AS        : int  6 5 13 9 9 8 3 16 9 13 ...\n",
            " $ HST       : int  9 6 5 6 4 2 2 6 3 4 ...\n",
            " $ AST       : int  3 4 6 3 6 2 0 8 1 6 ...\n",
            " $ HF        : int  14 25 12 15 14 16 16 16 18 16 ...\n",
            " $ AF        : int  18 13 11 15 12 15 15 12 14 15 ...\n",
            " $ HC        : int  4 5 5 6 7 7 8 4 11 3 ...\n",
            " $ AC        : int  2 2 4 0 3 6 0 4 6 7 ...\n",
            " $ HY        : int  0 3 3 2 2 1 2 5 1 2 ...\n",
            " $ AY        : int  1 3 1 4 4 3 1 1 3 3 ...\n",
            " $ HR        : int  0 0 0 0 1 0 0 0 0 0 ...\n",
            " $ AR        : int  0 1 0 1 0 1 0 1 0 0 ...\n",
            " $ B365H     : num  2.05 1.75 2.38 8 1.62 1.5 1.17 9.5 3.25 2.1 ...\n",
            " $ B365D     : num  3.2 3.8 3.25 4.33 4 4 8 5.75 3.25 3.3 ...\n",
            " $ B365A     : num  4.1 4.5 3.2 1.45 5.5 7.5 15 1.3 2.3 3.7 ...\n",
            " $ BWH       : num  2.05 1.75 2.4 7.5 1.62 1.48 1.18 9.25 3.25 2.15 ...\n",
            " $ BWD       : num  3.1 3.9 3.3 4.33 3.9 4.25 7.5 5.75 3.2 3.3 ...\n",
            " $ BWA       : num  4.1 4.6 3 1.45 5.75 7 14.5 1.3 2.3 3.5 ...\n",
            " $ IWH       : num  2.1 1.75 2.5 7.2 1.55 1.5 1.17 7.5 3.3 2.1 ...\n",
            " $ IWD       : num  3.4 3.6 3.3 4.4 4 4.2 7.5 5.5 3.35 3.4 ...\n",
            " $ IWA       : num  3.5 4.8 2.85 1.45 6.2 6.5 15 1.35 2.2 3.5 ...\n",
            " $ LBH       : num  2.05 1.75 2.35 7.5 1.6 1.5 1.2 9.5 3.25 2.1 ...\n",
            " $ LBD       : num  3 3.8 3.25 4 3.9 4 6.5 5.25 3.1 3.1 ...\n",
            " $ LBA       : num  4.2 4.33 3 1.5 5.5 7 15 1.3 2.3 3.4 ...\n",
            " $ PSH       : num  2.03 1.78 2.44 8.36 1.62 ...\n",
            " $ PSD       : num  3.25 4.01 3.4 4.38 4.17 4.37 7.35 5.79 3.24 3.36 ...\n",
            " $ PSA       : num  4.52 4.83 3.16 1.49 6.18 7.31 15.5 1.33 2.36 3.49 ...\n",
            " $ WHH       : num  2.05 1.8 2.4 8 1.67 1.5 1.22 11 3.1 2.2 ...\n",
            " $ WHD       : num  3.1 3.75 3.4 4.2 3.6 4 6 4.5 3.1 3.3 ...\n",
            " $ WHA       : num  4 4.2 2.9 1.44 5.5 7 13 1.33 2.4 3.3 ...\n",
            " $ VCH       : num  2.05 1.8 2.4 7.5 1.65 1.5 1.2 9.5 3.25 2.15 ...\n",
            " $ VCD       : num  3.2 4 3.4 4.3 4 4.2 7 5.75 3.25 3.3 ...\n",
            " $ VCA       : num  4.4 4.6 3.13 1.5 5.75 7 13 1.3 2.3 3.5 ...\n",
            " $ Bb1X2     : int  35 35 35 35 35 34 35 35 34 34 ...\n",
            " $ BbMxH     : num  2.12 1.83 2.5 8.36 1.69 ...\n",
            " $ BbAvH     : num  2.03 1.77 2.39 7.53 1.63 1.5 1.19 9.68 3.26 2.18 ...\n",
            " $ BbMxD     : num  3.4 4.04 3.5 4.4 4.17 4.4 8 5.86 3.35 3.4 ...\n",
            " $ BbAvD     : num  3.15 3.86 3.32 4.17 3.93 4.17 7.11 5.44 3.17 3.26 ...\n",
            " $ BbMxA     : num  4.52 4.83 3.2 1.51 6.2 7.5 17 1.35 2.4 3.7 ...\n",
            " $ BbAvA     : num  4.17 4.46 3.01 1.48 5.58 ...\n",
            " $ BbOU      : int  31 33 34 34 33 32 27 27 32 32 ...\n",
            " $ BbMx.2.5  : num  2.84 1.69 2.03 2.2 1.81 2.01 1.44 1.5 2.42 2.25 ...\n",
            " $ BbAv.2.5  : num  2.68 1.64 1.98 2.11 1.75 1.94 1.4 1.46 2.36 2.14 ...\n",
            " $ BbMx.2.5.1: num  1.53 2.4 1.9 1.8 2.14 1.96 3.1 2.95 1.63 1.76 ...\n",
            " $ BbAv.2.5.1: num  1.46 2.27 1.84 1.74 2.09 1.87 2.88 2.64 1.58 1.7 ...\n",
            " $ BbAH      : int  18 16 18 16 16 17 17 16 15 17 ...\n",
            " $ BbAHh     : num  -0.5 -0.75 -0.25 1.25 -1 -1 -2 1.5 0.25 -0.25 ...\n",
            " $ BbMxAHH   : num  2.07 2.05 2.08 1.77 2.12 1.9 2.05 2.03 1.93 1.92 ...\n",
            " $ BbAvAHH   : num  2.03 1.97 2.05 1.75 2.06 1.86 2 1.98 1.89 1.88 ...\n",
            " $ BbMxAHA   : num  1.9 1.96 1.87 2.25 1.86 2.05 1.91 1.95 2.03 2.04 ...\n",
            " $ BbAvAHA   : num  1.86 1.91 1.83 2.16 1.82 2.01 1.86 1.89 1.98 1.99 ...\n",
            " $ PSCH      : num  1.98 1.78 2.12 6.93 1.64 1.53 1.2 12.4 3.31 2.2 ...\n",
            " $ PSCD      : num  3.35 4.24 3.53 3.83 4.18 4.48 8.25 7 3.32 3.27 ...\n",
            " $ PSCA      : num  4.63 4.43 3.74 1.63 5.82 6.91 15.2 1.26 2.4 3.85 ...\n"
          ],
          "name": "stdout"
        }
      ]
    },
    {
      "cell_type": "code",
      "metadata": {
        "colab": {
          "base_uri": "https://localhost:8080/",
          "height": 354
        },
        "id": "19xdIQOIoGji",
        "outputId": "dd8f6b7f-0b3c-4dea-a151-f5bbe6072532"
      },
      "source": [
        "head(raw_data[[1]])"
      ],
      "execution_count": 7,
      "outputs": [
        {
          "output_type": "display_data",
          "data": {
            "text/plain": [
              "  Div Date     HomeTeam   AwayTeam   FTHG FTAG FTR HTHG HTAG HTR ⋯ BbAv.2.5.1\n",
              "1 SP1 18/08/17 Leganes    Alaves     1    0    H   1    0    H   ⋯ 1.46      \n",
              "2 SP1 18/08/17 Valencia   Las Palmas 1    0    H   1    0    H   ⋯ 2.27      \n",
              "3 SP1 19/08/17 Celta      Sociedad   2    3    A   1    1    D   ⋯ 1.84      \n",
              "4 SP1 19/08/17 Girona     Ath Madrid 2    2    D   2    0    H   ⋯ 1.74      \n",
              "5 SP1 19/08/17 Sevilla    Espanol    1    1    D   1    1    D   ⋯ 2.09      \n",
              "6 SP1 20/08/17 Ath Bilbao Getafe     0    0    D   0    0    D   ⋯ 1.87      \n",
              "  BbAH BbAHh BbMxAHH BbAvAHH BbMxAHA BbAvAHA PSCH PSCD PSCA\n",
              "1 18   -0.50 2.07    2.03    1.90    1.86    1.98 3.35 4.63\n",
              "2 16   -0.75 2.05    1.97    1.96    1.91    1.78 4.24 4.43\n",
              "3 18   -0.25 2.08    2.05    1.87    1.83    2.12 3.53 3.74\n",
              "4 16    1.25 1.77    1.75    2.25    2.16    6.93 3.83 1.63\n",
              "5 16   -1.00 2.12    2.06    1.86    1.82    1.64 4.18 5.82\n",
              "6 17   -1.00 1.90    1.86    2.05    2.01    1.53 4.48 6.91"
            ],
            "text/latex": "A data.frame: 6 × 64\n\\begin{tabular}{r|lllllllllllllllllllll}\n  & Div & Date & HomeTeam & AwayTeam & FTHG & FTAG & FTR & HTHG & HTAG & HTR & ⋯ & BbAv.2.5.1 & BbAH & BbAHh & BbMxAHH & BbAvAHH & BbMxAHA & BbAvAHA & PSCH & PSCD & PSCA\\\\\n  & <chr> & <chr> & <chr> & <chr> & <int> & <int> & <chr> & <int> & <int> & <chr> & ⋯ & <dbl> & <int> & <dbl> & <dbl> & <dbl> & <dbl> & <dbl> & <dbl> & <dbl> & <dbl>\\\\\n\\hline\n\t1 & SP1 & 18/08/17 & Leganes    & Alaves     & 1 & 0 & H & 1 & 0 & H & ⋯ & 1.46 & 18 & -0.50 & 2.07 & 2.03 & 1.90 & 1.86 & 1.98 & 3.35 & 4.63\\\\\n\t2 & SP1 & 18/08/17 & Valencia   & Las Palmas & 1 & 0 & H & 1 & 0 & H & ⋯ & 2.27 & 16 & -0.75 & 2.05 & 1.97 & 1.96 & 1.91 & 1.78 & 4.24 & 4.43\\\\\n\t3 & SP1 & 19/08/17 & Celta      & Sociedad   & 2 & 3 & A & 1 & 1 & D & ⋯ & 1.84 & 18 & -0.25 & 2.08 & 2.05 & 1.87 & 1.83 & 2.12 & 3.53 & 3.74\\\\\n\t4 & SP1 & 19/08/17 & Girona     & Ath Madrid & 2 & 2 & D & 2 & 0 & H & ⋯ & 1.74 & 16 &  1.25 & 1.77 & 1.75 & 2.25 & 2.16 & 6.93 & 3.83 & 1.63\\\\\n\t5 & SP1 & 19/08/17 & Sevilla    & Espanol    & 1 & 1 & D & 1 & 1 & D & ⋯ & 2.09 & 16 & -1.00 & 2.12 & 2.06 & 1.86 & 1.82 & 1.64 & 4.18 & 5.82\\\\\n\t6 & SP1 & 20/08/17 & Ath Bilbao & Getafe     & 0 & 0 & D & 0 & 0 & D & ⋯ & 1.87 & 17 & -1.00 & 1.90 & 1.86 & 2.05 & 2.01 & 1.53 & 4.48 & 6.91\\\\\n\\end{tabular}\n",
            "text/markdown": "\nA data.frame: 6 × 64\n\n| <!--/--> | Div &lt;chr&gt; | Date &lt;chr&gt; | HomeTeam &lt;chr&gt; | AwayTeam &lt;chr&gt; | FTHG &lt;int&gt; | FTAG &lt;int&gt; | FTR &lt;chr&gt; | HTHG &lt;int&gt; | HTAG &lt;int&gt; | HTR &lt;chr&gt; | ⋯ ⋯ | BbAv.2.5.1 &lt;dbl&gt; | BbAH &lt;int&gt; | BbAHh &lt;dbl&gt; | BbMxAHH &lt;dbl&gt; | BbAvAHH &lt;dbl&gt; | BbMxAHA &lt;dbl&gt; | BbAvAHA &lt;dbl&gt; | PSCH &lt;dbl&gt; | PSCD &lt;dbl&gt; | PSCA &lt;dbl&gt; |\n|---|---|---|---|---|---|---|---|---|---|---|---|---|---|---|---|---|---|---|---|---|---|\n| 1 | SP1 | 18/08/17 | Leganes    | Alaves     | 1 | 0 | H | 1 | 0 | H | ⋯ | 1.46 | 18 | -0.50 | 2.07 | 2.03 | 1.90 | 1.86 | 1.98 | 3.35 | 4.63 |\n| 2 | SP1 | 18/08/17 | Valencia   | Las Palmas | 1 | 0 | H | 1 | 0 | H | ⋯ | 2.27 | 16 | -0.75 | 2.05 | 1.97 | 1.96 | 1.91 | 1.78 | 4.24 | 4.43 |\n| 3 | SP1 | 19/08/17 | Celta      | Sociedad   | 2 | 3 | A | 1 | 1 | D | ⋯ | 1.84 | 18 | -0.25 | 2.08 | 2.05 | 1.87 | 1.83 | 2.12 | 3.53 | 3.74 |\n| 4 | SP1 | 19/08/17 | Girona     | Ath Madrid | 2 | 2 | D | 2 | 0 | H | ⋯ | 1.74 | 16 |  1.25 | 1.77 | 1.75 | 2.25 | 2.16 | 6.93 | 3.83 | 1.63 |\n| 5 | SP1 | 19/08/17 | Sevilla    | Espanol    | 1 | 1 | D | 1 | 1 | D | ⋯ | 2.09 | 16 | -1.00 | 2.12 | 2.06 | 1.86 | 1.82 | 1.64 | 4.18 | 5.82 |\n| 6 | SP1 | 20/08/17 | Ath Bilbao | Getafe     | 0 | 0 | D | 0 | 0 | D | ⋯ | 1.87 | 17 | -1.00 | 1.90 | 1.86 | 2.05 | 2.01 | 1.53 | 4.48 | 6.91 |\n\n",
            "text/html": [
              "<table class=\"dataframe\">\n",
              "<caption>A data.frame: 6 × 64</caption>\n",
              "<thead>\n",
              "\t<tr><th></th><th scope=col>Div</th><th scope=col>Date</th><th scope=col>HomeTeam</th><th scope=col>AwayTeam</th><th scope=col>FTHG</th><th scope=col>FTAG</th><th scope=col>FTR</th><th scope=col>HTHG</th><th scope=col>HTAG</th><th scope=col>HTR</th><th scope=col>⋯</th><th scope=col>BbAv.2.5.1</th><th scope=col>BbAH</th><th scope=col>BbAHh</th><th scope=col>BbMxAHH</th><th scope=col>BbAvAHH</th><th scope=col>BbMxAHA</th><th scope=col>BbAvAHA</th><th scope=col>PSCH</th><th scope=col>PSCD</th><th scope=col>PSCA</th></tr>\n",
              "\t<tr><th></th><th scope=col>&lt;chr&gt;</th><th scope=col>&lt;chr&gt;</th><th scope=col>&lt;chr&gt;</th><th scope=col>&lt;chr&gt;</th><th scope=col>&lt;int&gt;</th><th scope=col>&lt;int&gt;</th><th scope=col>&lt;chr&gt;</th><th scope=col>&lt;int&gt;</th><th scope=col>&lt;int&gt;</th><th scope=col>&lt;chr&gt;</th><th scope=col>⋯</th><th scope=col>&lt;dbl&gt;</th><th scope=col>&lt;int&gt;</th><th scope=col>&lt;dbl&gt;</th><th scope=col>&lt;dbl&gt;</th><th scope=col>&lt;dbl&gt;</th><th scope=col>&lt;dbl&gt;</th><th scope=col>&lt;dbl&gt;</th><th scope=col>&lt;dbl&gt;</th><th scope=col>&lt;dbl&gt;</th><th scope=col>&lt;dbl&gt;</th></tr>\n",
              "</thead>\n",
              "<tbody>\n",
              "\t<tr><th scope=row>1</th><td>SP1</td><td>18/08/17</td><td>Leganes   </td><td>Alaves    </td><td>1</td><td>0</td><td>H</td><td>1</td><td>0</td><td>H</td><td>⋯</td><td>1.46</td><td>18</td><td>-0.50</td><td>2.07</td><td>2.03</td><td>1.90</td><td>1.86</td><td>1.98</td><td>3.35</td><td>4.63</td></tr>\n",
              "\t<tr><th scope=row>2</th><td>SP1</td><td>18/08/17</td><td>Valencia  </td><td>Las Palmas</td><td>1</td><td>0</td><td>H</td><td>1</td><td>0</td><td>H</td><td>⋯</td><td>2.27</td><td>16</td><td>-0.75</td><td>2.05</td><td>1.97</td><td>1.96</td><td>1.91</td><td>1.78</td><td>4.24</td><td>4.43</td></tr>\n",
              "\t<tr><th scope=row>3</th><td>SP1</td><td>19/08/17</td><td>Celta     </td><td>Sociedad  </td><td>2</td><td>3</td><td>A</td><td>1</td><td>1</td><td>D</td><td>⋯</td><td>1.84</td><td>18</td><td>-0.25</td><td>2.08</td><td>2.05</td><td>1.87</td><td>1.83</td><td>2.12</td><td>3.53</td><td>3.74</td></tr>\n",
              "\t<tr><th scope=row>4</th><td>SP1</td><td>19/08/17</td><td>Girona    </td><td>Ath Madrid</td><td>2</td><td>2</td><td>D</td><td>2</td><td>0</td><td>H</td><td>⋯</td><td>1.74</td><td>16</td><td> 1.25</td><td>1.77</td><td>1.75</td><td>2.25</td><td>2.16</td><td>6.93</td><td>3.83</td><td>1.63</td></tr>\n",
              "\t<tr><th scope=row>5</th><td>SP1</td><td>19/08/17</td><td>Sevilla   </td><td>Espanol   </td><td>1</td><td>1</td><td>D</td><td>1</td><td>1</td><td>D</td><td>⋯</td><td>2.09</td><td>16</td><td>-1.00</td><td>2.12</td><td>2.06</td><td>1.86</td><td>1.82</td><td>1.64</td><td>4.18</td><td>5.82</td></tr>\n",
              "\t<tr><th scope=row>6</th><td>SP1</td><td>20/08/17</td><td>Ath Bilbao</td><td>Getafe    </td><td>0</td><td>0</td><td>D</td><td>0</td><td>0</td><td>D</td><td>⋯</td><td>1.87</td><td>17</td><td>-1.00</td><td>1.90</td><td>1.86</td><td>2.05</td><td>2.01</td><td>1.53</td><td>4.48</td><td>6.91</td></tr>\n",
              "</tbody>\n",
              "</table>\n"
            ]
          },
          "metadata": {
            "tags": []
          }
        }
      ]
    },
    {
      "cell_type": "code",
      "metadata": {
        "colab": {
          "base_uri": "https://localhost:8080/",
          "height": 1000
        },
        "id": "hjvNCmdMoHso",
        "outputId": "76df1cf9-3352-426b-f9fa-e909d70abb13"
      },
      "source": [
        "View(raw_data[[1]])"
      ],
      "execution_count": 8,
      "outputs": [
        {
          "output_type": "display_data",
          "data": {
            "text/markdown": "\nA data.frame: 380 × 64\n\n| Div &lt;chr&gt; | Date &lt;chr&gt; | HomeTeam &lt;chr&gt; | AwayTeam &lt;chr&gt; | FTHG &lt;int&gt; | FTAG &lt;int&gt; | FTR &lt;chr&gt; | HTHG &lt;int&gt; | HTAG &lt;int&gt; | HTR &lt;chr&gt; | ⋯ ⋯ | BbAv.2.5.1 &lt;dbl&gt; | BbAH &lt;int&gt; | BbAHh &lt;dbl&gt; | BbMxAHH &lt;dbl&gt; | BbAvAHH &lt;dbl&gt; | BbMxAHA &lt;dbl&gt; | BbAvAHA &lt;dbl&gt; | PSCH &lt;dbl&gt; | PSCD &lt;dbl&gt; | PSCA &lt;dbl&gt; |\n|---|---|---|---|---|---|---|---|---|---|---|---|---|---|---|---|---|---|---|---|---|\n| SP1 | 18/08/17 | Leganes     | Alaves      | 1 | 0 | H | 1 | 0 | H | ⋯ | 1.46 | 18 | -0.50 | 2.07 | 2.03 | 1.90 | 1.86 |  1.98 |  3.35 |  4.63 |\n| SP1 | 18/08/17 | Valencia    | Las Palmas  | 1 | 0 | H | 1 | 0 | H | ⋯ | 2.27 | 16 | -0.75 | 2.05 | 1.97 | 1.96 | 1.91 |  1.78 |  4.24 |  4.43 |\n| SP1 | 19/08/17 | Celta       | Sociedad    | 2 | 3 | A | 1 | 1 | D | ⋯ | 1.84 | 18 | -0.25 | 2.08 | 2.05 | 1.87 | 1.83 |  2.12 |  3.53 |  3.74 |\n| SP1 | 19/08/17 | Girona      | Ath Madrid  | 2 | 2 | D | 2 | 0 | H | ⋯ | 1.74 | 16 |  1.25 | 1.77 | 1.75 | 2.25 | 2.16 |  6.93 |  3.83 |  1.63 |\n| SP1 | 19/08/17 | Sevilla     | Espanol     | 1 | 1 | D | 1 | 1 | D | ⋯ | 2.09 | 16 | -1.00 | 2.12 | 2.06 | 1.86 | 1.82 |  1.64 |  4.18 |  5.82 |\n| SP1 | 20/08/17 | Ath Bilbao  | Getafe      | 0 | 0 | D | 0 | 0 | D | ⋯ | 1.87 | 17 | -1.00 | 1.90 | 1.86 | 2.05 | 2.01 |  1.53 |  4.48 |  6.91 |\n| SP1 | 20/08/17 | Barcelona   | Betis       | 2 | 0 | H | 2 | 0 | H | ⋯ | 2.88 | 17 | -2.00 | 2.05 | 2.00 | 1.91 | 1.86 |  1.20 |  8.25 | 15.20 |\n| SP1 | 20/08/17 | La Coruna   | Real Madrid | 0 | 3 | A | 0 | 2 | A | ⋯ | 2.64 | 16 |  1.50 | 2.03 | 1.98 | 1.95 | 1.89 | 12.40 |  7.00 |  1.26 |\n| SP1 | 21/08/17 | Levante     | Villarreal  | 1 | 0 | H | 0 | 0 | D | ⋯ | 1.58 | 15 |  0.25 | 1.93 | 1.89 | 2.03 | 1.98 |  3.31 |  3.32 |  2.40 |\n| SP1 | 21/08/17 | Malaga      | Eibar       | 0 | 1 | A | 0 | 0 | D | ⋯ | 1.70 | 17 | -0.25 | 1.92 | 1.88 | 2.04 | 1.99 |  2.20 |  3.27 |  3.85 |\n| SP1 | 25/08/17 | Betis       | Celta       | 2 | 1 | H | 1 | 1 | D | ⋯ | 1.85 | 16 | -0.25 | 2.05 | 1.96 | 1.96 | 1.93 |  2.32 |  3.44 |  3.35 |\n| SP1 | 25/08/17 | Sociedad    | Villarreal  | 3 | 0 | H | 3 | 0 | H | ⋯ | 1.76 | 16 | -0.25 | 1.83 | 1.80 | 2.14 | 2.10 |  2.04 |  3.59 |  3.98 |\n| SP1 | 26/08/17 | Alaves      | Barcelona   | 0 | 2 | A | 0 | 0 | D | ⋯ | 2.38 | 14 |  1.50 | 2.05 | 2.00 | 1.92 | 1.89 | 10.13 |  5.83 |  1.33 |\n| SP1 | 26/08/17 | Girona      | Malaga      | 1 | 0 | H | 1 | 0 | H | ⋯ | 1.67 | 14 | -0.25 | 1.88 | 1.85 | 2.08 | 2.03 |  2.01 |  3.42 |  4.33 |\n| SP1 | 26/08/17 | Las Palmas  | Ath Madrid  | 1 | 5 | A | 0 | 2 | A | ⋯ | 1.74 | 14 |  0.75 | 1.89 | 1.86 | 2.08 | 2.02 |  5.31 |  3.75 |  1.77 |\n| SP1 | 26/08/17 | Levante     | La Coruna   | 2 | 2 | D | 1 | 2 | A | ⋯ | 1.61 | 14 | -0.25 | 1.93 | 1.89 | 2.04 | 1.99 |  2.19 |  3.40 |  3.71 |\n| SP1 | 27/08/17 | Eibar       | Ath Bilbao  | 0 | 1 | A | 0 | 1 | A | ⋯ | 1.67 | 14 | -0.25 | 2.20 | 2.17 | 1.78 | 1.74 |  2.52 |  3.21 |  3.20 |\n| SP1 | 27/08/17 | Espanol     | Leganes     | 0 | 1 | A | 0 | 1 | A | ⋯ | 1.53 | 14 | -0.50 | 2.00 | 1.96 | 1.97 | 1.93 |  2.05 |  3.24 |  4.47 |\n| SP1 | 27/08/17 | Getafe      | Sevilla     | 0 | 1 | A | 0 | 0 | D | ⋯ | 1.93 | 14 |  0.25 | 2.06 | 2.03 | 1.90 | 1.86 |  3.58 |  3.50 |  2.20 |\n| SP1 | 27/08/17 | Real Madrid | Valencia    | 2 | 2 | D | 1 | 1 | D | ⋯ | 4.20 | 14 | -2.25 | 2.06 | 2.02 | 1.90 | 1.87 |  1.15 | 10.55 | 17.70 |\n| SP1 | 08/09/17 | Leganes     | Getafe      | 1 | 2 | A | 0 | 1 | A | ⋯ | 1.56 | 15 | -0.50 | 2.14 | 2.09 | 1.84 | 1.81 |  2.13 |  3.22 |  4.17 |\n| SP1 | 09/09/17 | Barcelona   | Espanol     | 5 | 0 | H | 2 | 0 | H | ⋯ | 3.19 | 14 | -2.00 | 1.83 | 1.78 | 2.17 | 2.11 |  1.13 | 10.40 | 23.13 |\n| SP1 | 09/09/17 | Real Madrid | Levante     | 1 | 1 | D | 1 | 1 | D | ⋯ | 4.86 | 15 | -3.00 | 2.07 | 2.01 | 1.90 | 1.86 |  1.11 | 12.60 | 23.75 |\n| SP1 | 09/09/17 | Sevilla     | Eibar       | 3 | 0 | H | 0 | 0 | D | ⋯ | 2.16 | 14 | -1.00 | 2.08 | 2.04 | 1.88 | 1.85 |  1.57 |  4.46 |  6.28 |\n| SP1 | 09/09/17 | Valencia    | Ath Madrid  | 0 | 0 | D | 0 | 0 | D | ⋯ | 1.73 | 15 |  0.25 | 2.03 | 1.99 | 1.93 | 1.89 |  3.21 |  3.23 |  2.50 |\n| SP1 | 10/09/17 | Ath Bilbao  | Girona      | 2 | 0 | H | 1 | 0 | H | ⋯ | 1.86 | 14 | -0.75 | 1.92 | 1.88 | 2.03 | 1.99 |  1.61 |  4.04 |  6.67 |\n| SP1 | 10/09/17 | Celta       | Alaves      | 1 | 0 | H | 1 | 0 | H | ⋯ | 1.81 | 14 | -0.75 | 1.99 | 1.95 | 1.95 | 1.92 |  1.68 |  3.91 |  5.87 |\n| SP1 | 10/09/17 | La Coruna   | Sociedad    | 2 | 4 | A | 1 | 2 | A | ⋯ | 1.86 | 15 |  0.00 | 2.03 | 1.99 | 1.91 | 1.88 |  3.12 |  3.55 |  2.39 |\n| SP1 | 10/09/17 | Villarreal  | Betis       | 3 | 1 | H | 1 | 1 | D | ⋯ | 1.80 | 14 | -0.50 | 1.92 | 1.88 | 2.04 | 2.01 |  1.97 |  3.62 |  4.25 |\n| SP1 | 11/09/17 | Malaga      | Las Palmas  | 1 | 3 | A | 0 | 1 | A | ⋯ | 1.93 | 12 | -0.50 | 2.07 | 2.04 | 1.87 | 1.86 |  2.03 |  3.59 |  4.02 |\n| ⋮ | ⋮ | ⋮ | ⋮ | ⋮ | ⋮ | ⋮ | ⋮ | ⋮ | ⋮ | ⋱ | ⋮ | ⋮ | ⋮ | ⋮ | ⋮ | ⋮ | ⋮ | ⋮ | ⋮ | ⋮ |\n| SP1 | 05/05/18 | Celta       | La Coruna   | 1 | 1 | D | 1 | 0 | H | ⋯ | 2.40 | 21 | -1.00 | 2.13 | 2.07 | 1.84 | 1.80 | 1.82 | 3.95 |  4.49 |\n| SP1 | 05/05/18 | Girona      | Eibar       | 1 | 4 | A | 0 | 2 | A | ⋯ | 1.65 | 20 | -0.25 | 1.83 | 1.79 | 2.14 | 2.08 | 2.16 | 3.42 |  3.71 |\n| SP1 | 05/05/18 | Villarreal  | Valencia    | 1 | 0 | H | 0 | 0 | D | ⋯ | 2.06 | 20 | -0.25 | 1.98 | 1.93 | 1.96 | 1.92 | 2.49 | 3.50 |  2.95 |\n| SP1 | 06/05/18 | Ath Madrid  | Espanol     | 0 | 2 | A | 0 | 0 | D | ⋯ | 1.69 | 20 | -1.25 | 2.03 | 1.98 | 1.92 | 1.88 | 1.56 | 3.70 |  8.44 |\n| SP1 | 06/05/18 | Barcelona   | Real Madrid | 2 | 2 | D | 1 | 1 | D | ⋯ | 3.22 | 20 | -0.75 | 1.87 | 1.82 | 2.11 | 2.04 | 1.75 | 4.64 |  4.18 |\n| SP1 | 06/05/18 | Las Palmas  | Getafe      | 0 | 1 | A | 0 | 0 | D | ⋯ | 1.75 | 18 |  0.25 | 2.17 | 2.10 | 1.81 | 1.76 | 3.17 | 3.31 |  2.46 |\n| SP1 | 06/05/18 | Malaga      | Alaves      | 0 | 3 | A | 0 | 1 | A | ⋯ | 1.58 | 19 | -0.25 | 2.10 | 2.05 | 1.85 | 1.82 | 2.27 | 3.31 |  3.54 |\n| SP1 | 07/05/18 | Leganes     | Levante     | 0 | 3 | A | 0 | 0 | D | ⋯ | 1.62 | 19 | -0.25 | 1.85 | 1.81 | 2.12 | 2.05 | 2.26 | 3.24 |  3.63 |\n| SP1 | 09/05/18 | Barcelona   | Villarreal  | 5 | 1 | H | 3 | 0 | H | ⋯ | 3.40 | 20 | -1.75 | 2.05 | 1.98 | 1.93 | 1.87 | 1.36 | 5.06 |  9.17 |\n| SP1 | 09/05/18 | Sevilla     | Real Madrid | 3 | 2 | H | 2 | 0 | H | ⋯ | 2.85 | 19 | -0.25 | 2.20 | 2.13 | 1.79 | 1.75 | 2.14 | 4.16 |  3.15 |\n| SP1 | 12/05/18 | Alaves      | Ath Bilbao  | 3 | 1 | H | 1 | 0 | H | ⋯ | 1.64 | 17 | -0.25 | 2.23 | 2.16 | 1.77 | 1.72 | 2.98 | 3.29 |  2.59 |\n| SP1 | 12/05/18 | Betis       | Sevilla     | 2 | 2 | D | 1 | 0 | H | ⋯ | 2.35 | 18 |  0.00 | 1.99 | 1.92 | 1.99 | 1.93 | 3.01 | 3.73 |  2.36 |\n| SP1 | 12/05/18 | Eibar       | Las Palmas  | 1 | 0 | H | 1 | 0 | H | ⋯ | 2.19 | 19 | -1.25 | 1.93 | 1.88 | 2.02 | 1.97 | 1.42 | 5.10 |  8.04 |\n| SP1 | 12/05/18 | Getafe      | Ath Madrid  | 0 | 1 | A | 0 | 1 | A | ⋯ | 1.46 | 18 |  0.00 | 1.95 | 1.90 | 2.10 | 1.96 | 3.72 | 3.04 |  2.34 |\n| SP1 | 12/05/18 | Girona      | Valencia    | 0 | 1 | A | 0 | 0 | D | ⋯ | 2.13 | 18 |  0.00 | 1.93 | 1.88 | 2.03 | 1.97 | 2.13 | 3.70 |  3.50 |\n| SP1 | 12/05/18 | La Coruna   | Villarreal  | 2 | 4 | A | 0 | 3 | A | ⋯ | 2.15 | 17 |  0.25 | 2.19 | 2.11 | 1.81 | 1.76 | 4.71 | 4.30 |  1.71 |\n| SP1 | 12/05/18 | Real Madrid | Celta       | 6 | 0 | H | 3 | 0 | H | ⋯ | 3.94 | 19 | -1.50 | 1.96 | 1.91 | 2.00 | 1.95 | 1.25 | 6.89 | 11.56 |\n| SP1 | 12/05/18 | Sociedad    | Leganes     | 3 | 2 | H | 2 | 1 | H | ⋯ | 2.04 | 19 | -1.25 | 2.06 | 1.99 | 1.91 | 1.87 | 1.40 | 4.87 |  9.26 |\n| SP1 | 13/05/18 | Espanol     | Malaga      | 4 | 1 | H | 3 | 1 | H | ⋯ | 1.74 | 19 | -0.75 | 1.86 | 1.83 | 2.07 | 2.03 | 1.63 | 3.97 |  6.24 |\n| SP1 | 13/05/18 | Levante     | Barcelona   | 5 | 4 | H | 2 | 1 | H | ⋯ | 3.23 | 18 |  1.50 | 2.11 | 2.06 | 1.86 | 1.81 | 7.70 | 5.40 |  1.40 |\n| SP1 | 19/05/18 | Celta       | Levante     | 4 | 2 | H | 2 | 1 | H | ⋯ | 2.82 | 20 | -0.75 | 2.05 | 2.01 | 1.90 | 1.85 | 1.60 | 4.68 |  5.33 |\n| SP1 | 19/05/18 | Las Palmas  | Girona      | 1 | 2 | A | 1 | 2 | A | ⋯ | 2.36 | 19 |  0.25 | 1.94 | 1.90 | 2.00 | 1.95 | 3.44 | 4.01 |  2.06 |\n| SP1 | 19/05/18 | Leganes     | Betis       | 3 | 2 | H | 1 | 1 | D | ⋯ | 2.19 | 17 |  0.00 | 2.04 | 1.99 | 1.91 | 1.86 | 2.41 | 3.76 |  2.90 |\n| SP1 | 19/05/18 | Malaga      | Getafe      | 0 | 1 | A | 0 | 0 | D | ⋯ | 1.91 | 19 |  0.25 | 1.98 | 1.92 | 1.98 | 1.93 | 3.26 | 3.56 |  2.28 |\n| SP1 | 19/05/18 | Sevilla     | Alaves      | 1 | 0 | H | 1 | 0 | H | ⋯ | 2.86 | 19 | -1.25 | 1.97 | 1.91 | 2.00 | 1.94 | 1.32 | 6.09 |  9.47 |\n| SP1 | 19/05/18 | Villarreal  | Real Madrid | 2 | 2 | D | 0 | 2 | A | ⋯ | 3.79 | 19 |  0.25 | 2.05 | 1.98 | 1.93 | 1.87 | 4.74 | 5.05 |  1.62 |\n| SP1 | 20/05/18 | Ath Bilbao  | Espanol     | 0 | 1 | A | 0 | 1 | A | ⋯ | 2.06 | 17 | -0.50 | 2.06 | 2.02 | 1.88 | 1.85 | 1.95 | 3.77 |  4.05 |\n| SP1 | 20/05/18 | Ath Madrid  | Eibar       | 2 | 2 | D | 1 | 1 | D | ⋯ | 1.98 | 19 | -1.00 | 2.09 | 2.04 | 1.87 | 1.82 | 1.47 | 4.25 |  8.80 |\n| SP1 | 20/05/18 | Barcelona   | Sociedad    | 1 | 0 | H | 0 | 0 | D | ⋯ | 5.04 | 19 | -2.00 | 1.94 | 1.89 | 2.03 | 1.97 | 1.31 | 6.40 |  8.60 |\n| SP1 | 20/05/18 | Valencia    | La Coruna   | 2 | 1 | H | 1 | 0 | H | ⋯ | 2.98 | 19 | -1.50 | 2.01 | 1.97 | 1.94 | 1.89 | 1.27 | 6.44 | 10.71 |\n\n",
            "text/latex": "A data.frame: 380 × 64\n\\begin{tabular}{lllllllllllllllllllll}\n Div & Date & HomeTeam & AwayTeam & FTHG & FTAG & FTR & HTHG & HTAG & HTR & ⋯ & BbAv.2.5.1 & BbAH & BbAHh & BbMxAHH & BbAvAHH & BbMxAHA & BbAvAHA & PSCH & PSCD & PSCA\\\\\n <chr> & <chr> & <chr> & <chr> & <int> & <int> & <chr> & <int> & <int> & <chr> & ⋯ & <dbl> & <int> & <dbl> & <dbl> & <dbl> & <dbl> & <dbl> & <dbl> & <dbl> & <dbl>\\\\\n\\hline\n\t SP1 & 18/08/17 & Leganes     & Alaves      & 1 & 0 & H & 1 & 0 & H & ⋯ & 1.46 & 18 & -0.50 & 2.07 & 2.03 & 1.90 & 1.86 &  1.98 &  3.35 &  4.63\\\\\n\t SP1 & 18/08/17 & Valencia    & Las Palmas  & 1 & 0 & H & 1 & 0 & H & ⋯ & 2.27 & 16 & -0.75 & 2.05 & 1.97 & 1.96 & 1.91 &  1.78 &  4.24 &  4.43\\\\\n\t SP1 & 19/08/17 & Celta       & Sociedad    & 2 & 3 & A & 1 & 1 & D & ⋯ & 1.84 & 18 & -0.25 & 2.08 & 2.05 & 1.87 & 1.83 &  2.12 &  3.53 &  3.74\\\\\n\t SP1 & 19/08/17 & Girona      & Ath Madrid  & 2 & 2 & D & 2 & 0 & H & ⋯ & 1.74 & 16 &  1.25 & 1.77 & 1.75 & 2.25 & 2.16 &  6.93 &  3.83 &  1.63\\\\\n\t SP1 & 19/08/17 & Sevilla     & Espanol     & 1 & 1 & D & 1 & 1 & D & ⋯ & 2.09 & 16 & -1.00 & 2.12 & 2.06 & 1.86 & 1.82 &  1.64 &  4.18 &  5.82\\\\\n\t SP1 & 20/08/17 & Ath Bilbao  & Getafe      & 0 & 0 & D & 0 & 0 & D & ⋯ & 1.87 & 17 & -1.00 & 1.90 & 1.86 & 2.05 & 2.01 &  1.53 &  4.48 &  6.91\\\\\n\t SP1 & 20/08/17 & Barcelona   & Betis       & 2 & 0 & H & 2 & 0 & H & ⋯ & 2.88 & 17 & -2.00 & 2.05 & 2.00 & 1.91 & 1.86 &  1.20 &  8.25 & 15.20\\\\\n\t SP1 & 20/08/17 & La Coruna   & Real Madrid & 0 & 3 & A & 0 & 2 & A & ⋯ & 2.64 & 16 &  1.50 & 2.03 & 1.98 & 1.95 & 1.89 & 12.40 &  7.00 &  1.26\\\\\n\t SP1 & 21/08/17 & Levante     & Villarreal  & 1 & 0 & H & 0 & 0 & D & ⋯ & 1.58 & 15 &  0.25 & 1.93 & 1.89 & 2.03 & 1.98 &  3.31 &  3.32 &  2.40\\\\\n\t SP1 & 21/08/17 & Malaga      & Eibar       & 0 & 1 & A & 0 & 0 & D & ⋯ & 1.70 & 17 & -0.25 & 1.92 & 1.88 & 2.04 & 1.99 &  2.20 &  3.27 &  3.85\\\\\n\t SP1 & 25/08/17 & Betis       & Celta       & 2 & 1 & H & 1 & 1 & D & ⋯ & 1.85 & 16 & -0.25 & 2.05 & 1.96 & 1.96 & 1.93 &  2.32 &  3.44 &  3.35\\\\\n\t SP1 & 25/08/17 & Sociedad    & Villarreal  & 3 & 0 & H & 3 & 0 & H & ⋯ & 1.76 & 16 & -0.25 & 1.83 & 1.80 & 2.14 & 2.10 &  2.04 &  3.59 &  3.98\\\\\n\t SP1 & 26/08/17 & Alaves      & Barcelona   & 0 & 2 & A & 0 & 0 & D & ⋯ & 2.38 & 14 &  1.50 & 2.05 & 2.00 & 1.92 & 1.89 & 10.13 &  5.83 &  1.33\\\\\n\t SP1 & 26/08/17 & Girona      & Malaga      & 1 & 0 & H & 1 & 0 & H & ⋯ & 1.67 & 14 & -0.25 & 1.88 & 1.85 & 2.08 & 2.03 &  2.01 &  3.42 &  4.33\\\\\n\t SP1 & 26/08/17 & Las Palmas  & Ath Madrid  & 1 & 5 & A & 0 & 2 & A & ⋯ & 1.74 & 14 &  0.75 & 1.89 & 1.86 & 2.08 & 2.02 &  5.31 &  3.75 &  1.77\\\\\n\t SP1 & 26/08/17 & Levante     & La Coruna   & 2 & 2 & D & 1 & 2 & A & ⋯ & 1.61 & 14 & -0.25 & 1.93 & 1.89 & 2.04 & 1.99 &  2.19 &  3.40 &  3.71\\\\\n\t SP1 & 27/08/17 & Eibar       & Ath Bilbao  & 0 & 1 & A & 0 & 1 & A & ⋯ & 1.67 & 14 & -0.25 & 2.20 & 2.17 & 1.78 & 1.74 &  2.52 &  3.21 &  3.20\\\\\n\t SP1 & 27/08/17 & Espanol     & Leganes     & 0 & 1 & A & 0 & 1 & A & ⋯ & 1.53 & 14 & -0.50 & 2.00 & 1.96 & 1.97 & 1.93 &  2.05 &  3.24 &  4.47\\\\\n\t SP1 & 27/08/17 & Getafe      & Sevilla     & 0 & 1 & A & 0 & 0 & D & ⋯ & 1.93 & 14 &  0.25 & 2.06 & 2.03 & 1.90 & 1.86 &  3.58 &  3.50 &  2.20\\\\\n\t SP1 & 27/08/17 & Real Madrid & Valencia    & 2 & 2 & D & 1 & 1 & D & ⋯ & 4.20 & 14 & -2.25 & 2.06 & 2.02 & 1.90 & 1.87 &  1.15 & 10.55 & 17.70\\\\\n\t SP1 & 08/09/17 & Leganes     & Getafe      & 1 & 2 & A & 0 & 1 & A & ⋯ & 1.56 & 15 & -0.50 & 2.14 & 2.09 & 1.84 & 1.81 &  2.13 &  3.22 &  4.17\\\\\n\t SP1 & 09/09/17 & Barcelona   & Espanol     & 5 & 0 & H & 2 & 0 & H & ⋯ & 3.19 & 14 & -2.00 & 1.83 & 1.78 & 2.17 & 2.11 &  1.13 & 10.40 & 23.13\\\\\n\t SP1 & 09/09/17 & Real Madrid & Levante     & 1 & 1 & D & 1 & 1 & D & ⋯ & 4.86 & 15 & -3.00 & 2.07 & 2.01 & 1.90 & 1.86 &  1.11 & 12.60 & 23.75\\\\\n\t SP1 & 09/09/17 & Sevilla     & Eibar       & 3 & 0 & H & 0 & 0 & D & ⋯ & 2.16 & 14 & -1.00 & 2.08 & 2.04 & 1.88 & 1.85 &  1.57 &  4.46 &  6.28\\\\\n\t SP1 & 09/09/17 & Valencia    & Ath Madrid  & 0 & 0 & D & 0 & 0 & D & ⋯ & 1.73 & 15 &  0.25 & 2.03 & 1.99 & 1.93 & 1.89 &  3.21 &  3.23 &  2.50\\\\\n\t SP1 & 10/09/17 & Ath Bilbao  & Girona      & 2 & 0 & H & 1 & 0 & H & ⋯ & 1.86 & 14 & -0.75 & 1.92 & 1.88 & 2.03 & 1.99 &  1.61 &  4.04 &  6.67\\\\\n\t SP1 & 10/09/17 & Celta       & Alaves      & 1 & 0 & H & 1 & 0 & H & ⋯ & 1.81 & 14 & -0.75 & 1.99 & 1.95 & 1.95 & 1.92 &  1.68 &  3.91 &  5.87\\\\\n\t SP1 & 10/09/17 & La Coruna   & Sociedad    & 2 & 4 & A & 1 & 2 & A & ⋯ & 1.86 & 15 &  0.00 & 2.03 & 1.99 & 1.91 & 1.88 &  3.12 &  3.55 &  2.39\\\\\n\t SP1 & 10/09/17 & Villarreal  & Betis       & 3 & 1 & H & 1 & 1 & D & ⋯ & 1.80 & 14 & -0.50 & 1.92 & 1.88 & 2.04 & 2.01 &  1.97 &  3.62 &  4.25\\\\\n\t SP1 & 11/09/17 & Malaga      & Las Palmas  & 1 & 3 & A & 0 & 1 & A & ⋯ & 1.93 & 12 & -0.50 & 2.07 & 2.04 & 1.87 & 1.86 &  2.03 &  3.59 &  4.02\\\\\n\t ⋮ & ⋮ & ⋮ & ⋮ & ⋮ & ⋮ & ⋮ & ⋮ & ⋮ & ⋮ & ⋱ & ⋮ & ⋮ & ⋮ & ⋮ & ⋮ & ⋮ & ⋮ & ⋮ & ⋮ & ⋮\\\\\n\t SP1 & 05/05/18 & Celta       & La Coruna   & 1 & 1 & D & 1 & 0 & H & ⋯ & 2.40 & 21 & -1.00 & 2.13 & 2.07 & 1.84 & 1.80 & 1.82 & 3.95 &  4.49\\\\\n\t SP1 & 05/05/18 & Girona      & Eibar       & 1 & 4 & A & 0 & 2 & A & ⋯ & 1.65 & 20 & -0.25 & 1.83 & 1.79 & 2.14 & 2.08 & 2.16 & 3.42 &  3.71\\\\\n\t SP1 & 05/05/18 & Villarreal  & Valencia    & 1 & 0 & H & 0 & 0 & D & ⋯ & 2.06 & 20 & -0.25 & 1.98 & 1.93 & 1.96 & 1.92 & 2.49 & 3.50 &  2.95\\\\\n\t SP1 & 06/05/18 & Ath Madrid  & Espanol     & 0 & 2 & A & 0 & 0 & D & ⋯ & 1.69 & 20 & -1.25 & 2.03 & 1.98 & 1.92 & 1.88 & 1.56 & 3.70 &  8.44\\\\\n\t SP1 & 06/05/18 & Barcelona   & Real Madrid & 2 & 2 & D & 1 & 1 & D & ⋯ & 3.22 & 20 & -0.75 & 1.87 & 1.82 & 2.11 & 2.04 & 1.75 & 4.64 &  4.18\\\\\n\t SP1 & 06/05/18 & Las Palmas  & Getafe      & 0 & 1 & A & 0 & 0 & D & ⋯ & 1.75 & 18 &  0.25 & 2.17 & 2.10 & 1.81 & 1.76 & 3.17 & 3.31 &  2.46\\\\\n\t SP1 & 06/05/18 & Malaga      & Alaves      & 0 & 3 & A & 0 & 1 & A & ⋯ & 1.58 & 19 & -0.25 & 2.10 & 2.05 & 1.85 & 1.82 & 2.27 & 3.31 &  3.54\\\\\n\t SP1 & 07/05/18 & Leganes     & Levante     & 0 & 3 & A & 0 & 0 & D & ⋯ & 1.62 & 19 & -0.25 & 1.85 & 1.81 & 2.12 & 2.05 & 2.26 & 3.24 &  3.63\\\\\n\t SP1 & 09/05/18 & Barcelona   & Villarreal  & 5 & 1 & H & 3 & 0 & H & ⋯ & 3.40 & 20 & -1.75 & 2.05 & 1.98 & 1.93 & 1.87 & 1.36 & 5.06 &  9.17\\\\\n\t SP1 & 09/05/18 & Sevilla     & Real Madrid & 3 & 2 & H & 2 & 0 & H & ⋯ & 2.85 & 19 & -0.25 & 2.20 & 2.13 & 1.79 & 1.75 & 2.14 & 4.16 &  3.15\\\\\n\t SP1 & 12/05/18 & Alaves      & Ath Bilbao  & 3 & 1 & H & 1 & 0 & H & ⋯ & 1.64 & 17 & -0.25 & 2.23 & 2.16 & 1.77 & 1.72 & 2.98 & 3.29 &  2.59\\\\\n\t SP1 & 12/05/18 & Betis       & Sevilla     & 2 & 2 & D & 1 & 0 & H & ⋯ & 2.35 & 18 &  0.00 & 1.99 & 1.92 & 1.99 & 1.93 & 3.01 & 3.73 &  2.36\\\\\n\t SP1 & 12/05/18 & Eibar       & Las Palmas  & 1 & 0 & H & 1 & 0 & H & ⋯ & 2.19 & 19 & -1.25 & 1.93 & 1.88 & 2.02 & 1.97 & 1.42 & 5.10 &  8.04\\\\\n\t SP1 & 12/05/18 & Getafe      & Ath Madrid  & 0 & 1 & A & 0 & 1 & A & ⋯ & 1.46 & 18 &  0.00 & 1.95 & 1.90 & 2.10 & 1.96 & 3.72 & 3.04 &  2.34\\\\\n\t SP1 & 12/05/18 & Girona      & Valencia    & 0 & 1 & A & 0 & 0 & D & ⋯ & 2.13 & 18 &  0.00 & 1.93 & 1.88 & 2.03 & 1.97 & 2.13 & 3.70 &  3.50\\\\\n\t SP1 & 12/05/18 & La Coruna   & Villarreal  & 2 & 4 & A & 0 & 3 & A & ⋯ & 2.15 & 17 &  0.25 & 2.19 & 2.11 & 1.81 & 1.76 & 4.71 & 4.30 &  1.71\\\\\n\t SP1 & 12/05/18 & Real Madrid & Celta       & 6 & 0 & H & 3 & 0 & H & ⋯ & 3.94 & 19 & -1.50 & 1.96 & 1.91 & 2.00 & 1.95 & 1.25 & 6.89 & 11.56\\\\\n\t SP1 & 12/05/18 & Sociedad    & Leganes     & 3 & 2 & H & 2 & 1 & H & ⋯ & 2.04 & 19 & -1.25 & 2.06 & 1.99 & 1.91 & 1.87 & 1.40 & 4.87 &  9.26\\\\\n\t SP1 & 13/05/18 & Espanol     & Malaga      & 4 & 1 & H & 3 & 1 & H & ⋯ & 1.74 & 19 & -0.75 & 1.86 & 1.83 & 2.07 & 2.03 & 1.63 & 3.97 &  6.24\\\\\n\t SP1 & 13/05/18 & Levante     & Barcelona   & 5 & 4 & H & 2 & 1 & H & ⋯ & 3.23 & 18 &  1.50 & 2.11 & 2.06 & 1.86 & 1.81 & 7.70 & 5.40 &  1.40\\\\\n\t SP1 & 19/05/18 & Celta       & Levante     & 4 & 2 & H & 2 & 1 & H & ⋯ & 2.82 & 20 & -0.75 & 2.05 & 2.01 & 1.90 & 1.85 & 1.60 & 4.68 &  5.33\\\\\n\t SP1 & 19/05/18 & Las Palmas  & Girona      & 1 & 2 & A & 1 & 2 & A & ⋯ & 2.36 & 19 &  0.25 & 1.94 & 1.90 & 2.00 & 1.95 & 3.44 & 4.01 &  2.06\\\\\n\t SP1 & 19/05/18 & Leganes     & Betis       & 3 & 2 & H & 1 & 1 & D & ⋯ & 2.19 & 17 &  0.00 & 2.04 & 1.99 & 1.91 & 1.86 & 2.41 & 3.76 &  2.90\\\\\n\t SP1 & 19/05/18 & Malaga      & Getafe      & 0 & 1 & A & 0 & 0 & D & ⋯ & 1.91 & 19 &  0.25 & 1.98 & 1.92 & 1.98 & 1.93 & 3.26 & 3.56 &  2.28\\\\\n\t SP1 & 19/05/18 & Sevilla     & Alaves      & 1 & 0 & H & 1 & 0 & H & ⋯ & 2.86 & 19 & -1.25 & 1.97 & 1.91 & 2.00 & 1.94 & 1.32 & 6.09 &  9.47\\\\\n\t SP1 & 19/05/18 & Villarreal  & Real Madrid & 2 & 2 & D & 0 & 2 & A & ⋯ & 3.79 & 19 &  0.25 & 2.05 & 1.98 & 1.93 & 1.87 & 4.74 & 5.05 &  1.62\\\\\n\t SP1 & 20/05/18 & Ath Bilbao  & Espanol     & 0 & 1 & A & 0 & 1 & A & ⋯ & 2.06 & 17 & -0.50 & 2.06 & 2.02 & 1.88 & 1.85 & 1.95 & 3.77 &  4.05\\\\\n\t SP1 & 20/05/18 & Ath Madrid  & Eibar       & 2 & 2 & D & 1 & 1 & D & ⋯ & 1.98 & 19 & -1.00 & 2.09 & 2.04 & 1.87 & 1.82 & 1.47 & 4.25 &  8.80\\\\\n\t SP1 & 20/05/18 & Barcelona   & Sociedad    & 1 & 0 & H & 0 & 0 & D & ⋯ & 5.04 & 19 & -2.00 & 1.94 & 1.89 & 2.03 & 1.97 & 1.31 & 6.40 &  8.60\\\\\n\t SP1 & 20/05/18 & Valencia    & La Coruna   & 2 & 1 & H & 1 & 0 & H & ⋯ & 2.98 & 19 & -1.50 & 2.01 & 1.97 & 1.94 & 1.89 & 1.27 & 6.44 & 10.71\\\\\n\\end{tabular}\n",
            "text/html": [
              "<table class=\"dataframe\">\n",
              "<caption>A data.frame: 380 × 64</caption>\n",
              "<thead>\n",
              "\t<tr><th scope=col>Div</th><th scope=col>Date</th><th scope=col>HomeTeam</th><th scope=col>AwayTeam</th><th scope=col>FTHG</th><th scope=col>FTAG</th><th scope=col>FTR</th><th scope=col>HTHG</th><th scope=col>HTAG</th><th scope=col>HTR</th><th scope=col>⋯</th><th scope=col>BbAv.2.5.1</th><th scope=col>BbAH</th><th scope=col>BbAHh</th><th scope=col>BbMxAHH</th><th scope=col>BbAvAHH</th><th scope=col>BbMxAHA</th><th scope=col>BbAvAHA</th><th scope=col>PSCH</th><th scope=col>PSCD</th><th scope=col>PSCA</th></tr>\n",
              "\t<tr><th scope=col>&lt;chr&gt;</th><th scope=col>&lt;chr&gt;</th><th scope=col>&lt;chr&gt;</th><th scope=col>&lt;chr&gt;</th><th scope=col>&lt;int&gt;</th><th scope=col>&lt;int&gt;</th><th scope=col>&lt;chr&gt;</th><th scope=col>&lt;int&gt;</th><th scope=col>&lt;int&gt;</th><th scope=col>&lt;chr&gt;</th><th scope=col>⋯</th><th scope=col>&lt;dbl&gt;</th><th scope=col>&lt;int&gt;</th><th scope=col>&lt;dbl&gt;</th><th scope=col>&lt;dbl&gt;</th><th scope=col>&lt;dbl&gt;</th><th scope=col>&lt;dbl&gt;</th><th scope=col>&lt;dbl&gt;</th><th scope=col>&lt;dbl&gt;</th><th scope=col>&lt;dbl&gt;</th><th scope=col>&lt;dbl&gt;</th></tr>\n",
              "</thead>\n",
              "<tbody>\n",
              "\t<tr><td>SP1</td><td>18/08/17</td><td>Leganes    </td><td>Alaves     </td><td>1</td><td>0</td><td>H</td><td>1</td><td>0</td><td>H</td><td>⋯</td><td>1.46</td><td>18</td><td>-0.50</td><td>2.07</td><td>2.03</td><td>1.90</td><td>1.86</td><td> 1.98</td><td> 3.35</td><td> 4.63</td></tr>\n",
              "\t<tr><td>SP1</td><td>18/08/17</td><td>Valencia   </td><td>Las Palmas </td><td>1</td><td>0</td><td>H</td><td>1</td><td>0</td><td>H</td><td>⋯</td><td>2.27</td><td>16</td><td>-0.75</td><td>2.05</td><td>1.97</td><td>1.96</td><td>1.91</td><td> 1.78</td><td> 4.24</td><td> 4.43</td></tr>\n",
              "\t<tr><td>SP1</td><td>19/08/17</td><td>Celta      </td><td>Sociedad   </td><td>2</td><td>3</td><td>A</td><td>1</td><td>1</td><td>D</td><td>⋯</td><td>1.84</td><td>18</td><td>-0.25</td><td>2.08</td><td>2.05</td><td>1.87</td><td>1.83</td><td> 2.12</td><td> 3.53</td><td> 3.74</td></tr>\n",
              "\t<tr><td>SP1</td><td>19/08/17</td><td>Girona     </td><td>Ath Madrid </td><td>2</td><td>2</td><td>D</td><td>2</td><td>0</td><td>H</td><td>⋯</td><td>1.74</td><td>16</td><td> 1.25</td><td>1.77</td><td>1.75</td><td>2.25</td><td>2.16</td><td> 6.93</td><td> 3.83</td><td> 1.63</td></tr>\n",
              "\t<tr><td>SP1</td><td>19/08/17</td><td>Sevilla    </td><td>Espanol    </td><td>1</td><td>1</td><td>D</td><td>1</td><td>1</td><td>D</td><td>⋯</td><td>2.09</td><td>16</td><td>-1.00</td><td>2.12</td><td>2.06</td><td>1.86</td><td>1.82</td><td> 1.64</td><td> 4.18</td><td> 5.82</td></tr>\n",
              "\t<tr><td>SP1</td><td>20/08/17</td><td>Ath Bilbao </td><td>Getafe     </td><td>0</td><td>0</td><td>D</td><td>0</td><td>0</td><td>D</td><td>⋯</td><td>1.87</td><td>17</td><td>-1.00</td><td>1.90</td><td>1.86</td><td>2.05</td><td>2.01</td><td> 1.53</td><td> 4.48</td><td> 6.91</td></tr>\n",
              "\t<tr><td>SP1</td><td>20/08/17</td><td>Barcelona  </td><td>Betis      </td><td>2</td><td>0</td><td>H</td><td>2</td><td>0</td><td>H</td><td>⋯</td><td>2.88</td><td>17</td><td>-2.00</td><td>2.05</td><td>2.00</td><td>1.91</td><td>1.86</td><td> 1.20</td><td> 8.25</td><td>15.20</td></tr>\n",
              "\t<tr><td>SP1</td><td>20/08/17</td><td>La Coruna  </td><td>Real Madrid</td><td>0</td><td>3</td><td>A</td><td>0</td><td>2</td><td>A</td><td>⋯</td><td>2.64</td><td>16</td><td> 1.50</td><td>2.03</td><td>1.98</td><td>1.95</td><td>1.89</td><td>12.40</td><td> 7.00</td><td> 1.26</td></tr>\n",
              "\t<tr><td>SP1</td><td>21/08/17</td><td>Levante    </td><td>Villarreal </td><td>1</td><td>0</td><td>H</td><td>0</td><td>0</td><td>D</td><td>⋯</td><td>1.58</td><td>15</td><td> 0.25</td><td>1.93</td><td>1.89</td><td>2.03</td><td>1.98</td><td> 3.31</td><td> 3.32</td><td> 2.40</td></tr>\n",
              "\t<tr><td>SP1</td><td>21/08/17</td><td>Malaga     </td><td>Eibar      </td><td>0</td><td>1</td><td>A</td><td>0</td><td>0</td><td>D</td><td>⋯</td><td>1.70</td><td>17</td><td>-0.25</td><td>1.92</td><td>1.88</td><td>2.04</td><td>1.99</td><td> 2.20</td><td> 3.27</td><td> 3.85</td></tr>\n",
              "\t<tr><td>SP1</td><td>25/08/17</td><td>Betis      </td><td>Celta      </td><td>2</td><td>1</td><td>H</td><td>1</td><td>1</td><td>D</td><td>⋯</td><td>1.85</td><td>16</td><td>-0.25</td><td>2.05</td><td>1.96</td><td>1.96</td><td>1.93</td><td> 2.32</td><td> 3.44</td><td> 3.35</td></tr>\n",
              "\t<tr><td>SP1</td><td>25/08/17</td><td>Sociedad   </td><td>Villarreal </td><td>3</td><td>0</td><td>H</td><td>3</td><td>0</td><td>H</td><td>⋯</td><td>1.76</td><td>16</td><td>-0.25</td><td>1.83</td><td>1.80</td><td>2.14</td><td>2.10</td><td> 2.04</td><td> 3.59</td><td> 3.98</td></tr>\n",
              "\t<tr><td>SP1</td><td>26/08/17</td><td>Alaves     </td><td>Barcelona  </td><td>0</td><td>2</td><td>A</td><td>0</td><td>0</td><td>D</td><td>⋯</td><td>2.38</td><td>14</td><td> 1.50</td><td>2.05</td><td>2.00</td><td>1.92</td><td>1.89</td><td>10.13</td><td> 5.83</td><td> 1.33</td></tr>\n",
              "\t<tr><td>SP1</td><td>26/08/17</td><td>Girona     </td><td>Malaga     </td><td>1</td><td>0</td><td>H</td><td>1</td><td>0</td><td>H</td><td>⋯</td><td>1.67</td><td>14</td><td>-0.25</td><td>1.88</td><td>1.85</td><td>2.08</td><td>2.03</td><td> 2.01</td><td> 3.42</td><td> 4.33</td></tr>\n",
              "\t<tr><td>SP1</td><td>26/08/17</td><td>Las Palmas </td><td>Ath Madrid </td><td>1</td><td>5</td><td>A</td><td>0</td><td>2</td><td>A</td><td>⋯</td><td>1.74</td><td>14</td><td> 0.75</td><td>1.89</td><td>1.86</td><td>2.08</td><td>2.02</td><td> 5.31</td><td> 3.75</td><td> 1.77</td></tr>\n",
              "\t<tr><td>SP1</td><td>26/08/17</td><td>Levante    </td><td>La Coruna  </td><td>2</td><td>2</td><td>D</td><td>1</td><td>2</td><td>A</td><td>⋯</td><td>1.61</td><td>14</td><td>-0.25</td><td>1.93</td><td>1.89</td><td>2.04</td><td>1.99</td><td> 2.19</td><td> 3.40</td><td> 3.71</td></tr>\n",
              "\t<tr><td>SP1</td><td>27/08/17</td><td>Eibar      </td><td>Ath Bilbao </td><td>0</td><td>1</td><td>A</td><td>0</td><td>1</td><td>A</td><td>⋯</td><td>1.67</td><td>14</td><td>-0.25</td><td>2.20</td><td>2.17</td><td>1.78</td><td>1.74</td><td> 2.52</td><td> 3.21</td><td> 3.20</td></tr>\n",
              "\t<tr><td>SP1</td><td>27/08/17</td><td>Espanol    </td><td>Leganes    </td><td>0</td><td>1</td><td>A</td><td>0</td><td>1</td><td>A</td><td>⋯</td><td>1.53</td><td>14</td><td>-0.50</td><td>2.00</td><td>1.96</td><td>1.97</td><td>1.93</td><td> 2.05</td><td> 3.24</td><td> 4.47</td></tr>\n",
              "\t<tr><td>SP1</td><td>27/08/17</td><td>Getafe     </td><td>Sevilla    </td><td>0</td><td>1</td><td>A</td><td>0</td><td>0</td><td>D</td><td>⋯</td><td>1.93</td><td>14</td><td> 0.25</td><td>2.06</td><td>2.03</td><td>1.90</td><td>1.86</td><td> 3.58</td><td> 3.50</td><td> 2.20</td></tr>\n",
              "\t<tr><td>SP1</td><td>27/08/17</td><td>Real Madrid</td><td>Valencia   </td><td>2</td><td>2</td><td>D</td><td>1</td><td>1</td><td>D</td><td>⋯</td><td>4.20</td><td>14</td><td>-2.25</td><td>2.06</td><td>2.02</td><td>1.90</td><td>1.87</td><td> 1.15</td><td>10.55</td><td>17.70</td></tr>\n",
              "\t<tr><td>SP1</td><td>08/09/17</td><td>Leganes    </td><td>Getafe     </td><td>1</td><td>2</td><td>A</td><td>0</td><td>1</td><td>A</td><td>⋯</td><td>1.56</td><td>15</td><td>-0.50</td><td>2.14</td><td>2.09</td><td>1.84</td><td>1.81</td><td> 2.13</td><td> 3.22</td><td> 4.17</td></tr>\n",
              "\t<tr><td>SP1</td><td>09/09/17</td><td>Barcelona  </td><td>Espanol    </td><td>5</td><td>0</td><td>H</td><td>2</td><td>0</td><td>H</td><td>⋯</td><td>3.19</td><td>14</td><td>-2.00</td><td>1.83</td><td>1.78</td><td>2.17</td><td>2.11</td><td> 1.13</td><td>10.40</td><td>23.13</td></tr>\n",
              "\t<tr><td>SP1</td><td>09/09/17</td><td>Real Madrid</td><td>Levante    </td><td>1</td><td>1</td><td>D</td><td>1</td><td>1</td><td>D</td><td>⋯</td><td>4.86</td><td>15</td><td>-3.00</td><td>2.07</td><td>2.01</td><td>1.90</td><td>1.86</td><td> 1.11</td><td>12.60</td><td>23.75</td></tr>\n",
              "\t<tr><td>SP1</td><td>09/09/17</td><td>Sevilla    </td><td>Eibar      </td><td>3</td><td>0</td><td>H</td><td>0</td><td>0</td><td>D</td><td>⋯</td><td>2.16</td><td>14</td><td>-1.00</td><td>2.08</td><td>2.04</td><td>1.88</td><td>1.85</td><td> 1.57</td><td> 4.46</td><td> 6.28</td></tr>\n",
              "\t<tr><td>SP1</td><td>09/09/17</td><td>Valencia   </td><td>Ath Madrid </td><td>0</td><td>0</td><td>D</td><td>0</td><td>0</td><td>D</td><td>⋯</td><td>1.73</td><td>15</td><td> 0.25</td><td>2.03</td><td>1.99</td><td>1.93</td><td>1.89</td><td> 3.21</td><td> 3.23</td><td> 2.50</td></tr>\n",
              "\t<tr><td>SP1</td><td>10/09/17</td><td>Ath Bilbao </td><td>Girona     </td><td>2</td><td>0</td><td>H</td><td>1</td><td>0</td><td>H</td><td>⋯</td><td>1.86</td><td>14</td><td>-0.75</td><td>1.92</td><td>1.88</td><td>2.03</td><td>1.99</td><td> 1.61</td><td> 4.04</td><td> 6.67</td></tr>\n",
              "\t<tr><td>SP1</td><td>10/09/17</td><td>Celta      </td><td>Alaves     </td><td>1</td><td>0</td><td>H</td><td>1</td><td>0</td><td>H</td><td>⋯</td><td>1.81</td><td>14</td><td>-0.75</td><td>1.99</td><td>1.95</td><td>1.95</td><td>1.92</td><td> 1.68</td><td> 3.91</td><td> 5.87</td></tr>\n",
              "\t<tr><td>SP1</td><td>10/09/17</td><td>La Coruna  </td><td>Sociedad   </td><td>2</td><td>4</td><td>A</td><td>1</td><td>2</td><td>A</td><td>⋯</td><td>1.86</td><td>15</td><td> 0.00</td><td>2.03</td><td>1.99</td><td>1.91</td><td>1.88</td><td> 3.12</td><td> 3.55</td><td> 2.39</td></tr>\n",
              "\t<tr><td>SP1</td><td>10/09/17</td><td>Villarreal </td><td>Betis      </td><td>3</td><td>1</td><td>H</td><td>1</td><td>1</td><td>D</td><td>⋯</td><td>1.80</td><td>14</td><td>-0.50</td><td>1.92</td><td>1.88</td><td>2.04</td><td>2.01</td><td> 1.97</td><td> 3.62</td><td> 4.25</td></tr>\n",
              "\t<tr><td>SP1</td><td>11/09/17</td><td>Malaga     </td><td>Las Palmas </td><td>1</td><td>3</td><td>A</td><td>0</td><td>1</td><td>A</td><td>⋯</td><td>1.93</td><td>12</td><td>-0.50</td><td>2.07</td><td>2.04</td><td>1.87</td><td>1.86</td><td> 2.03</td><td> 3.59</td><td> 4.02</td></tr>\n",
              "\t<tr><td>⋮</td><td>⋮</td><td>⋮</td><td>⋮</td><td>⋮</td><td>⋮</td><td>⋮</td><td>⋮</td><td>⋮</td><td>⋮</td><td>⋱</td><td>⋮</td><td>⋮</td><td>⋮</td><td>⋮</td><td>⋮</td><td>⋮</td><td>⋮</td><td>⋮</td><td>⋮</td><td>⋮</td></tr>\n",
              "\t<tr><td>SP1</td><td>05/05/18</td><td>Celta      </td><td>La Coruna  </td><td>1</td><td>1</td><td>D</td><td>1</td><td>0</td><td>H</td><td>⋯</td><td>2.40</td><td>21</td><td>-1.00</td><td>2.13</td><td>2.07</td><td>1.84</td><td>1.80</td><td>1.82</td><td>3.95</td><td> 4.49</td></tr>\n",
              "\t<tr><td>SP1</td><td>05/05/18</td><td>Girona     </td><td>Eibar      </td><td>1</td><td>4</td><td>A</td><td>0</td><td>2</td><td>A</td><td>⋯</td><td>1.65</td><td>20</td><td>-0.25</td><td>1.83</td><td>1.79</td><td>2.14</td><td>2.08</td><td>2.16</td><td>3.42</td><td> 3.71</td></tr>\n",
              "\t<tr><td>SP1</td><td>05/05/18</td><td>Villarreal </td><td>Valencia   </td><td>1</td><td>0</td><td>H</td><td>0</td><td>0</td><td>D</td><td>⋯</td><td>2.06</td><td>20</td><td>-0.25</td><td>1.98</td><td>1.93</td><td>1.96</td><td>1.92</td><td>2.49</td><td>3.50</td><td> 2.95</td></tr>\n",
              "\t<tr><td>SP1</td><td>06/05/18</td><td>Ath Madrid </td><td>Espanol    </td><td>0</td><td>2</td><td>A</td><td>0</td><td>0</td><td>D</td><td>⋯</td><td>1.69</td><td>20</td><td>-1.25</td><td>2.03</td><td>1.98</td><td>1.92</td><td>1.88</td><td>1.56</td><td>3.70</td><td> 8.44</td></tr>\n",
              "\t<tr><td>SP1</td><td>06/05/18</td><td>Barcelona  </td><td>Real Madrid</td><td>2</td><td>2</td><td>D</td><td>1</td><td>1</td><td>D</td><td>⋯</td><td>3.22</td><td>20</td><td>-0.75</td><td>1.87</td><td>1.82</td><td>2.11</td><td>2.04</td><td>1.75</td><td>4.64</td><td> 4.18</td></tr>\n",
              "\t<tr><td>SP1</td><td>06/05/18</td><td>Las Palmas </td><td>Getafe     </td><td>0</td><td>1</td><td>A</td><td>0</td><td>0</td><td>D</td><td>⋯</td><td>1.75</td><td>18</td><td> 0.25</td><td>2.17</td><td>2.10</td><td>1.81</td><td>1.76</td><td>3.17</td><td>3.31</td><td> 2.46</td></tr>\n",
              "\t<tr><td>SP1</td><td>06/05/18</td><td>Malaga     </td><td>Alaves     </td><td>0</td><td>3</td><td>A</td><td>0</td><td>1</td><td>A</td><td>⋯</td><td>1.58</td><td>19</td><td>-0.25</td><td>2.10</td><td>2.05</td><td>1.85</td><td>1.82</td><td>2.27</td><td>3.31</td><td> 3.54</td></tr>\n",
              "\t<tr><td>SP1</td><td>07/05/18</td><td>Leganes    </td><td>Levante    </td><td>0</td><td>3</td><td>A</td><td>0</td><td>0</td><td>D</td><td>⋯</td><td>1.62</td><td>19</td><td>-0.25</td><td>1.85</td><td>1.81</td><td>2.12</td><td>2.05</td><td>2.26</td><td>3.24</td><td> 3.63</td></tr>\n",
              "\t<tr><td>SP1</td><td>09/05/18</td><td>Barcelona  </td><td>Villarreal </td><td>5</td><td>1</td><td>H</td><td>3</td><td>0</td><td>H</td><td>⋯</td><td>3.40</td><td>20</td><td>-1.75</td><td>2.05</td><td>1.98</td><td>1.93</td><td>1.87</td><td>1.36</td><td>5.06</td><td> 9.17</td></tr>\n",
              "\t<tr><td>SP1</td><td>09/05/18</td><td>Sevilla    </td><td>Real Madrid</td><td>3</td><td>2</td><td>H</td><td>2</td><td>0</td><td>H</td><td>⋯</td><td>2.85</td><td>19</td><td>-0.25</td><td>2.20</td><td>2.13</td><td>1.79</td><td>1.75</td><td>2.14</td><td>4.16</td><td> 3.15</td></tr>\n",
              "\t<tr><td>SP1</td><td>12/05/18</td><td>Alaves     </td><td>Ath Bilbao </td><td>3</td><td>1</td><td>H</td><td>1</td><td>0</td><td>H</td><td>⋯</td><td>1.64</td><td>17</td><td>-0.25</td><td>2.23</td><td>2.16</td><td>1.77</td><td>1.72</td><td>2.98</td><td>3.29</td><td> 2.59</td></tr>\n",
              "\t<tr><td>SP1</td><td>12/05/18</td><td>Betis      </td><td>Sevilla    </td><td>2</td><td>2</td><td>D</td><td>1</td><td>0</td><td>H</td><td>⋯</td><td>2.35</td><td>18</td><td> 0.00</td><td>1.99</td><td>1.92</td><td>1.99</td><td>1.93</td><td>3.01</td><td>3.73</td><td> 2.36</td></tr>\n",
              "\t<tr><td>SP1</td><td>12/05/18</td><td>Eibar      </td><td>Las Palmas </td><td>1</td><td>0</td><td>H</td><td>1</td><td>0</td><td>H</td><td>⋯</td><td>2.19</td><td>19</td><td>-1.25</td><td>1.93</td><td>1.88</td><td>2.02</td><td>1.97</td><td>1.42</td><td>5.10</td><td> 8.04</td></tr>\n",
              "\t<tr><td>SP1</td><td>12/05/18</td><td>Getafe     </td><td>Ath Madrid </td><td>0</td><td>1</td><td>A</td><td>0</td><td>1</td><td>A</td><td>⋯</td><td>1.46</td><td>18</td><td> 0.00</td><td>1.95</td><td>1.90</td><td>2.10</td><td>1.96</td><td>3.72</td><td>3.04</td><td> 2.34</td></tr>\n",
              "\t<tr><td>SP1</td><td>12/05/18</td><td>Girona     </td><td>Valencia   </td><td>0</td><td>1</td><td>A</td><td>0</td><td>0</td><td>D</td><td>⋯</td><td>2.13</td><td>18</td><td> 0.00</td><td>1.93</td><td>1.88</td><td>2.03</td><td>1.97</td><td>2.13</td><td>3.70</td><td> 3.50</td></tr>\n",
              "\t<tr><td>SP1</td><td>12/05/18</td><td>La Coruna  </td><td>Villarreal </td><td>2</td><td>4</td><td>A</td><td>0</td><td>3</td><td>A</td><td>⋯</td><td>2.15</td><td>17</td><td> 0.25</td><td>2.19</td><td>2.11</td><td>1.81</td><td>1.76</td><td>4.71</td><td>4.30</td><td> 1.71</td></tr>\n",
              "\t<tr><td>SP1</td><td>12/05/18</td><td>Real Madrid</td><td>Celta      </td><td>6</td><td>0</td><td>H</td><td>3</td><td>0</td><td>H</td><td>⋯</td><td>3.94</td><td>19</td><td>-1.50</td><td>1.96</td><td>1.91</td><td>2.00</td><td>1.95</td><td>1.25</td><td>6.89</td><td>11.56</td></tr>\n",
              "\t<tr><td>SP1</td><td>12/05/18</td><td>Sociedad   </td><td>Leganes    </td><td>3</td><td>2</td><td>H</td><td>2</td><td>1</td><td>H</td><td>⋯</td><td>2.04</td><td>19</td><td>-1.25</td><td>2.06</td><td>1.99</td><td>1.91</td><td>1.87</td><td>1.40</td><td>4.87</td><td> 9.26</td></tr>\n",
              "\t<tr><td>SP1</td><td>13/05/18</td><td>Espanol    </td><td>Malaga     </td><td>4</td><td>1</td><td>H</td><td>3</td><td>1</td><td>H</td><td>⋯</td><td>1.74</td><td>19</td><td>-0.75</td><td>1.86</td><td>1.83</td><td>2.07</td><td>2.03</td><td>1.63</td><td>3.97</td><td> 6.24</td></tr>\n",
              "\t<tr><td>SP1</td><td>13/05/18</td><td>Levante    </td><td>Barcelona  </td><td>5</td><td>4</td><td>H</td><td>2</td><td>1</td><td>H</td><td>⋯</td><td>3.23</td><td>18</td><td> 1.50</td><td>2.11</td><td>2.06</td><td>1.86</td><td>1.81</td><td>7.70</td><td>5.40</td><td> 1.40</td></tr>\n",
              "\t<tr><td>SP1</td><td>19/05/18</td><td>Celta      </td><td>Levante    </td><td>4</td><td>2</td><td>H</td><td>2</td><td>1</td><td>H</td><td>⋯</td><td>2.82</td><td>20</td><td>-0.75</td><td>2.05</td><td>2.01</td><td>1.90</td><td>1.85</td><td>1.60</td><td>4.68</td><td> 5.33</td></tr>\n",
              "\t<tr><td>SP1</td><td>19/05/18</td><td>Las Palmas </td><td>Girona     </td><td>1</td><td>2</td><td>A</td><td>1</td><td>2</td><td>A</td><td>⋯</td><td>2.36</td><td>19</td><td> 0.25</td><td>1.94</td><td>1.90</td><td>2.00</td><td>1.95</td><td>3.44</td><td>4.01</td><td> 2.06</td></tr>\n",
              "\t<tr><td>SP1</td><td>19/05/18</td><td>Leganes    </td><td>Betis      </td><td>3</td><td>2</td><td>H</td><td>1</td><td>1</td><td>D</td><td>⋯</td><td>2.19</td><td>17</td><td> 0.00</td><td>2.04</td><td>1.99</td><td>1.91</td><td>1.86</td><td>2.41</td><td>3.76</td><td> 2.90</td></tr>\n",
              "\t<tr><td>SP1</td><td>19/05/18</td><td>Malaga     </td><td>Getafe     </td><td>0</td><td>1</td><td>A</td><td>0</td><td>0</td><td>D</td><td>⋯</td><td>1.91</td><td>19</td><td> 0.25</td><td>1.98</td><td>1.92</td><td>1.98</td><td>1.93</td><td>3.26</td><td>3.56</td><td> 2.28</td></tr>\n",
              "\t<tr><td>SP1</td><td>19/05/18</td><td>Sevilla    </td><td>Alaves     </td><td>1</td><td>0</td><td>H</td><td>1</td><td>0</td><td>H</td><td>⋯</td><td>2.86</td><td>19</td><td>-1.25</td><td>1.97</td><td>1.91</td><td>2.00</td><td>1.94</td><td>1.32</td><td>6.09</td><td> 9.47</td></tr>\n",
              "\t<tr><td>SP1</td><td>19/05/18</td><td>Villarreal </td><td>Real Madrid</td><td>2</td><td>2</td><td>D</td><td>0</td><td>2</td><td>A</td><td>⋯</td><td>3.79</td><td>19</td><td> 0.25</td><td>2.05</td><td>1.98</td><td>1.93</td><td>1.87</td><td>4.74</td><td>5.05</td><td> 1.62</td></tr>\n",
              "\t<tr><td>SP1</td><td>20/05/18</td><td>Ath Bilbao </td><td>Espanol    </td><td>0</td><td>1</td><td>A</td><td>0</td><td>1</td><td>A</td><td>⋯</td><td>2.06</td><td>17</td><td>-0.50</td><td>2.06</td><td>2.02</td><td>1.88</td><td>1.85</td><td>1.95</td><td>3.77</td><td> 4.05</td></tr>\n",
              "\t<tr><td>SP1</td><td>20/05/18</td><td>Ath Madrid </td><td>Eibar      </td><td>2</td><td>2</td><td>D</td><td>1</td><td>1</td><td>D</td><td>⋯</td><td>1.98</td><td>19</td><td>-1.00</td><td>2.09</td><td>2.04</td><td>1.87</td><td>1.82</td><td>1.47</td><td>4.25</td><td> 8.80</td></tr>\n",
              "\t<tr><td>SP1</td><td>20/05/18</td><td>Barcelona  </td><td>Sociedad   </td><td>1</td><td>0</td><td>H</td><td>0</td><td>0</td><td>D</td><td>⋯</td><td>5.04</td><td>19</td><td>-2.00</td><td>1.94</td><td>1.89</td><td>2.03</td><td>1.97</td><td>1.31</td><td>6.40</td><td> 8.60</td></tr>\n",
              "\t<tr><td>SP1</td><td>20/05/18</td><td>Valencia   </td><td>La Coruna  </td><td>2</td><td>1</td><td>H</td><td>1</td><td>0</td><td>H</td><td>⋯</td><td>2.98</td><td>19</td><td>-1.50</td><td>2.01</td><td>1.97</td><td>1.94</td><td>1.89</td><td>1.27</td><td>6.44</td><td>10.71</td></tr>\n",
              "</tbody>\n",
              "</table>\n"
            ],
            "text/plain": [
              "    Div Date     HomeTeam    AwayTeam    FTHG FTAG FTR HTHG HTAG HTR ⋯\n",
              "1   SP1 18/08/17 Leganes     Alaves      1    0    H   1    0    H   ⋯\n",
              "2   SP1 18/08/17 Valencia    Las Palmas  1    0    H   1    0    H   ⋯\n",
              "3   SP1 19/08/17 Celta       Sociedad    2    3    A   1    1    D   ⋯\n",
              "4   SP1 19/08/17 Girona      Ath Madrid  2    2    D   2    0    H   ⋯\n",
              "5   SP1 19/08/17 Sevilla     Espanol     1    1    D   1    1    D   ⋯\n",
              "6   SP1 20/08/17 Ath Bilbao  Getafe      0    0    D   0    0    D   ⋯\n",
              "7   SP1 20/08/17 Barcelona   Betis       2    0    H   2    0    H   ⋯\n",
              "8   SP1 20/08/17 La Coruna   Real Madrid 0    3    A   0    2    A   ⋯\n",
              "9   SP1 21/08/17 Levante     Villarreal  1    0    H   0    0    D   ⋯\n",
              "10  SP1 21/08/17 Malaga      Eibar       0    1    A   0    0    D   ⋯\n",
              "11  SP1 25/08/17 Betis       Celta       2    1    H   1    1    D   ⋯\n",
              "12  SP1 25/08/17 Sociedad    Villarreal  3    0    H   3    0    H   ⋯\n",
              "13  SP1 26/08/17 Alaves      Barcelona   0    2    A   0    0    D   ⋯\n",
              "14  SP1 26/08/17 Girona      Malaga      1    0    H   1    0    H   ⋯\n",
              "15  SP1 26/08/17 Las Palmas  Ath Madrid  1    5    A   0    2    A   ⋯\n",
              "16  SP1 26/08/17 Levante     La Coruna   2    2    D   1    2    A   ⋯\n",
              "17  SP1 27/08/17 Eibar       Ath Bilbao  0    1    A   0    1    A   ⋯\n",
              "18  SP1 27/08/17 Espanol     Leganes     0    1    A   0    1    A   ⋯\n",
              "19  SP1 27/08/17 Getafe      Sevilla     0    1    A   0    0    D   ⋯\n",
              "20  SP1 27/08/17 Real Madrid Valencia    2    2    D   1    1    D   ⋯\n",
              "21  SP1 08/09/17 Leganes     Getafe      1    2    A   0    1    A   ⋯\n",
              "22  SP1 09/09/17 Barcelona   Espanol     5    0    H   2    0    H   ⋯\n",
              "23  SP1 09/09/17 Real Madrid Levante     1    1    D   1    1    D   ⋯\n",
              "24  SP1 09/09/17 Sevilla     Eibar       3    0    H   0    0    D   ⋯\n",
              "25  SP1 09/09/17 Valencia    Ath Madrid  0    0    D   0    0    D   ⋯\n",
              "26  SP1 10/09/17 Ath Bilbao  Girona      2    0    H   1    0    H   ⋯\n",
              "27  SP1 10/09/17 Celta       Alaves      1    0    H   1    0    H   ⋯\n",
              "28  SP1 10/09/17 La Coruna   Sociedad    2    4    A   1    2    A   ⋯\n",
              "29  SP1 10/09/17 Villarreal  Betis       3    1    H   1    1    D   ⋯\n",
              "30  SP1 11/09/17 Malaga      Las Palmas  1    3    A   0    1    A   ⋯\n",
              "⋮   ⋮   ⋮        ⋮           ⋮           ⋮    ⋮    ⋮   ⋮    ⋮    ⋮   ⋱\n",
              "351 SP1 05/05/18 Celta       La Coruna   1    1    D   1    0    H   ⋯\n",
              "352 SP1 05/05/18 Girona      Eibar       1    4    A   0    2    A   ⋯\n",
              "353 SP1 05/05/18 Villarreal  Valencia    1    0    H   0    0    D   ⋯\n",
              "354 SP1 06/05/18 Ath Madrid  Espanol     0    2    A   0    0    D   ⋯\n",
              "355 SP1 06/05/18 Barcelona   Real Madrid 2    2    D   1    1    D   ⋯\n",
              "356 SP1 06/05/18 Las Palmas  Getafe      0    1    A   0    0    D   ⋯\n",
              "357 SP1 06/05/18 Malaga      Alaves      0    3    A   0    1    A   ⋯\n",
              "358 SP1 07/05/18 Leganes     Levante     0    3    A   0    0    D   ⋯\n",
              "359 SP1 09/05/18 Barcelona   Villarreal  5    1    H   3    0    H   ⋯\n",
              "360 SP1 09/05/18 Sevilla     Real Madrid 3    2    H   2    0    H   ⋯\n",
              "361 SP1 12/05/18 Alaves      Ath Bilbao  3    1    H   1    0    H   ⋯\n",
              "362 SP1 12/05/18 Betis       Sevilla     2    2    D   1    0    H   ⋯\n",
              "363 SP1 12/05/18 Eibar       Las Palmas  1    0    H   1    0    H   ⋯\n",
              "364 SP1 12/05/18 Getafe      Ath Madrid  0    1    A   0    1    A   ⋯\n",
              "365 SP1 12/05/18 Girona      Valencia    0    1    A   0    0    D   ⋯\n",
              "366 SP1 12/05/18 La Coruna   Villarreal  2    4    A   0    3    A   ⋯\n",
              "367 SP1 12/05/18 Real Madrid Celta       6    0    H   3    0    H   ⋯\n",
              "368 SP1 12/05/18 Sociedad    Leganes     3    2    H   2    1    H   ⋯\n",
              "369 SP1 13/05/18 Espanol     Malaga      4    1    H   3    1    H   ⋯\n",
              "370 SP1 13/05/18 Levante     Barcelona   5    4    H   2    1    H   ⋯\n",
              "371 SP1 19/05/18 Celta       Levante     4    2    H   2    1    H   ⋯\n",
              "372 SP1 19/05/18 Las Palmas  Girona      1    2    A   1    2    A   ⋯\n",
              "373 SP1 19/05/18 Leganes     Betis       3    2    H   1    1    D   ⋯\n",
              "374 SP1 19/05/18 Malaga      Getafe      0    1    A   0    0    D   ⋯\n",
              "375 SP1 19/05/18 Sevilla     Alaves      1    0    H   1    0    H   ⋯\n",
              "376 SP1 19/05/18 Villarreal  Real Madrid 2    2    D   0    2    A   ⋯\n",
              "377 SP1 20/05/18 Ath Bilbao  Espanol     0    1    A   0    1    A   ⋯\n",
              "378 SP1 20/05/18 Ath Madrid  Eibar       2    2    D   1    1    D   ⋯\n",
              "379 SP1 20/05/18 Barcelona   Sociedad    1    0    H   0    0    D   ⋯\n",
              "380 SP1 20/05/18 Valencia    La Coruna   2    1    H   1    0    H   ⋯\n",
              "    BbAv.2.5.1 BbAH BbAHh BbMxAHH BbAvAHH BbMxAHA BbAvAHA PSCH  PSCD  PSCA \n",
              "1   1.46       18   -0.50 2.07    2.03    1.90    1.86     1.98  3.35  4.63\n",
              "2   2.27       16   -0.75 2.05    1.97    1.96    1.91     1.78  4.24  4.43\n",
              "3   1.84       18   -0.25 2.08    2.05    1.87    1.83     2.12  3.53  3.74\n",
              "4   1.74       16    1.25 1.77    1.75    2.25    2.16     6.93  3.83  1.63\n",
              "5   2.09       16   -1.00 2.12    2.06    1.86    1.82     1.64  4.18  5.82\n",
              "6   1.87       17   -1.00 1.90    1.86    2.05    2.01     1.53  4.48  6.91\n",
              "7   2.88       17   -2.00 2.05    2.00    1.91    1.86     1.20  8.25 15.20\n",
              "8   2.64       16    1.50 2.03    1.98    1.95    1.89    12.40  7.00  1.26\n",
              "9   1.58       15    0.25 1.93    1.89    2.03    1.98     3.31  3.32  2.40\n",
              "10  1.70       17   -0.25 1.92    1.88    2.04    1.99     2.20  3.27  3.85\n",
              "11  1.85       16   -0.25 2.05    1.96    1.96    1.93     2.32  3.44  3.35\n",
              "12  1.76       16   -0.25 1.83    1.80    2.14    2.10     2.04  3.59  3.98\n",
              "13  2.38       14    1.50 2.05    2.00    1.92    1.89    10.13  5.83  1.33\n",
              "14  1.67       14   -0.25 1.88    1.85    2.08    2.03     2.01  3.42  4.33\n",
              "15  1.74       14    0.75 1.89    1.86    2.08    2.02     5.31  3.75  1.77\n",
              "16  1.61       14   -0.25 1.93    1.89    2.04    1.99     2.19  3.40  3.71\n",
              "17  1.67       14   -0.25 2.20    2.17    1.78    1.74     2.52  3.21  3.20\n",
              "18  1.53       14   -0.50 2.00    1.96    1.97    1.93     2.05  3.24  4.47\n",
              "19  1.93       14    0.25 2.06    2.03    1.90    1.86     3.58  3.50  2.20\n",
              "20  4.20       14   -2.25 2.06    2.02    1.90    1.87     1.15 10.55 17.70\n",
              "21  1.56       15   -0.50 2.14    2.09    1.84    1.81     2.13  3.22  4.17\n",
              "22  3.19       14   -2.00 1.83    1.78    2.17    2.11     1.13 10.40 23.13\n",
              "23  4.86       15   -3.00 2.07    2.01    1.90    1.86     1.11 12.60 23.75\n",
              "24  2.16       14   -1.00 2.08    2.04    1.88    1.85     1.57  4.46  6.28\n",
              "25  1.73       15    0.25 2.03    1.99    1.93    1.89     3.21  3.23  2.50\n",
              "26  1.86       14   -0.75 1.92    1.88    2.03    1.99     1.61  4.04  6.67\n",
              "27  1.81       14   -0.75 1.99    1.95    1.95    1.92     1.68  3.91  5.87\n",
              "28  1.86       15    0.00 2.03    1.99    1.91    1.88     3.12  3.55  2.39\n",
              "29  1.80       14   -0.50 1.92    1.88    2.04    2.01     1.97  3.62  4.25\n",
              "30  1.93       12   -0.50 2.07    2.04    1.87    1.86     2.03  3.59  4.02\n",
              "⋮   ⋮          ⋮    ⋮     ⋮       ⋮       ⋮       ⋮       ⋮     ⋮     ⋮    \n",
              "351 2.40       21   -1.00 2.13    2.07    1.84    1.80    1.82  3.95   4.49\n",
              "352 1.65       20   -0.25 1.83    1.79    2.14    2.08    2.16  3.42   3.71\n",
              "353 2.06       20   -0.25 1.98    1.93    1.96    1.92    2.49  3.50   2.95\n",
              "354 1.69       20   -1.25 2.03    1.98    1.92    1.88    1.56  3.70   8.44\n",
              "355 3.22       20   -0.75 1.87    1.82    2.11    2.04    1.75  4.64   4.18\n",
              "356 1.75       18    0.25 2.17    2.10    1.81    1.76    3.17  3.31   2.46\n",
              "357 1.58       19   -0.25 2.10    2.05    1.85    1.82    2.27  3.31   3.54\n",
              "358 1.62       19   -0.25 1.85    1.81    2.12    2.05    2.26  3.24   3.63\n",
              "359 3.40       20   -1.75 2.05    1.98    1.93    1.87    1.36  5.06   9.17\n",
              "360 2.85       19   -0.25 2.20    2.13    1.79    1.75    2.14  4.16   3.15\n",
              "361 1.64       17   -0.25 2.23    2.16    1.77    1.72    2.98  3.29   2.59\n",
              "362 2.35       18    0.00 1.99    1.92    1.99    1.93    3.01  3.73   2.36\n",
              "363 2.19       19   -1.25 1.93    1.88    2.02    1.97    1.42  5.10   8.04\n",
              "364 1.46       18    0.00 1.95    1.90    2.10    1.96    3.72  3.04   2.34\n",
              "365 2.13       18    0.00 1.93    1.88    2.03    1.97    2.13  3.70   3.50\n",
              "366 2.15       17    0.25 2.19    2.11    1.81    1.76    4.71  4.30   1.71\n",
              "367 3.94       19   -1.50 1.96    1.91    2.00    1.95    1.25  6.89  11.56\n",
              "368 2.04       19   -1.25 2.06    1.99    1.91    1.87    1.40  4.87   9.26\n",
              "369 1.74       19   -0.75 1.86    1.83    2.07    2.03    1.63  3.97   6.24\n",
              "370 3.23       18    1.50 2.11    2.06    1.86    1.81    7.70  5.40   1.40\n",
              "371 2.82       20   -0.75 2.05    2.01    1.90    1.85    1.60  4.68   5.33\n",
              "372 2.36       19    0.25 1.94    1.90    2.00    1.95    3.44  4.01   2.06\n",
              "373 2.19       17    0.00 2.04    1.99    1.91    1.86    2.41  3.76   2.90\n",
              "374 1.91       19    0.25 1.98    1.92    1.98    1.93    3.26  3.56   2.28\n",
              "375 2.86       19   -1.25 1.97    1.91    2.00    1.94    1.32  6.09   9.47\n",
              "376 3.79       19    0.25 2.05    1.98    1.93    1.87    4.74  5.05   1.62\n",
              "377 2.06       17   -0.50 2.06    2.02    1.88    1.85    1.95  3.77   4.05\n",
              "378 1.98       19   -1.00 2.09    2.04    1.87    1.82    1.47  4.25   8.80\n",
              "379 5.04       19   -2.00 1.94    1.89    2.03    1.97    1.31  6.40   8.60\n",
              "380 2.98       19   -1.50 2.01    1.97    1.94    1.89    1.27  6.44  10.71"
            ]
          },
          "metadata": {
            "tags": []
          }
        }
      ]
    },
    {
      "cell_type": "code",
      "metadata": {
        "colab": {
          "base_uri": "https://localhost:8080/",
          "height": 1000
        },
        "id": "u46D4iBpoIhl",
        "outputId": "3c33e75e-fa71-405f-8fc5-a46ab458d299"
      },
      "source": [
        "summary(raw_data[[1]])"
      ],
      "execution_count": 9,
      "outputs": [
        {
          "output_type": "display_data",
          "data": {
            "text/plain": [
              "     Div                Date             HomeTeam           AwayTeam        \n",
              " Length:380         Length:380         Length:380         Length:380        \n",
              " Class :character   Class :character   Class :character   Class :character  \n",
              " Mode  :character   Mode  :character   Mode  :character   Mode  :character  \n",
              "                                                                            \n",
              "                                                                            \n",
              "                                                                            \n",
              "                                                                            \n",
              "      FTHG            FTAG           FTR                 HTHG       \n",
              " Min.   :0.000   Min.   :0.000   Length:380         Min.   :0.0000  \n",
              " 1st Qu.:0.750   1st Qu.:0.000   Class :character   1st Qu.:0.0000  \n",
              " Median :1.000   Median :1.000   Mode  :character   Median :0.0000  \n",
              " Mean   :1.547   Mean   :1.147                      Mean   :0.6605  \n",
              " 3rd Qu.:2.000   3rd Qu.:2.000                      3rd Qu.:1.0000  \n",
              " Max.   :7.000   Max.   :6.000                      Max.   :5.0000  \n",
              "                                                                    \n",
              "      HTAG            HTR                  HS              AS       \n",
              " Min.   :0.0000   Length:380         Min.   : 2.00   Min.   : 1.00  \n",
              " 1st Qu.:0.0000   Class :character   1st Qu.:10.00   1st Qu.: 8.00  \n",
              " Median :0.0000   Mode  :character   Median :13.00   Median :10.00  \n",
              " Mean   :0.4868                      Mean   :13.53   Mean   :10.47  \n",
              " 3rd Qu.:1.0000                      3rd Qu.:16.00   3rd Qu.:13.00  \n",
              " Max.   :3.0000                      Max.   :30.00   Max.   :24.00  \n",
              "                                                                    \n",
              "      HST              AST               HF              AF       \n",
              " Min.   : 0.000   Min.   : 0.000   Min.   : 4.00   Min.   : 0.00  \n",
              " 1st Qu.: 3.000   1st Qu.: 2.000   1st Qu.:11.00   1st Qu.:11.00  \n",
              " Median : 4.500   Median : 3.000   Median :13.00   Median :14.00  \n",
              " Mean   : 4.758   Mean   : 3.805   Mean   :13.73   Mean   :13.95  \n",
              " 3rd Qu.: 6.000   3rd Qu.: 5.000   3rd Qu.:17.00   3rd Qu.:17.00  \n",
              " Max.   :14.000   Max.   :13.000   Max.   :29.00   Max.   :29.00  \n",
              "                                                                  \n",
              "       HC               AC               HY              AY       \n",
              " Min.   : 0.000   Min.   : 0.000   Min.   :0.000   Min.   :0.000  \n",
              " 1st Qu.: 4.000   1st Qu.: 2.000   1st Qu.:1.000   1st Qu.:2.000  \n",
              " Median : 5.000   Median : 4.000   Median :2.000   Median :3.000  \n",
              " Mean   : 5.613   Mean   : 4.192   Mean   :2.339   Mean   :2.676  \n",
              " 3rd Qu.: 7.000   3rd Qu.: 6.000   3rd Qu.:3.000   3rd Qu.:4.000  \n",
              " Max.   :16.000   Max.   :14.000   Max.   :8.000   Max.   :9.000  \n",
              "                                                                  \n",
              "       HR               AR              B365H            B365D       \n",
              " Min.   :0.0000   Min.   :0.00000   Min.   : 1.050   Min.   : 2.790  \n",
              " 1st Qu.:0.0000   1st Qu.:0.00000   1st Qu.: 1.617   1st Qu.: 3.290  \n",
              " Median :0.0000   Median :0.00000   Median : 2.075   Median : 3.500  \n",
              " Mean   :0.1105   Mean   :0.07895   Mean   : 2.777   Mean   : 4.259  \n",
              " 3rd Qu.:0.0000   3rd Qu.:0.00000   3rd Qu.: 2.790   3rd Qu.: 4.330  \n",
              " Max.   :2.0000   Max.   :2.00000   Max.   :17.000   Max.   :15.000  \n",
              "                                                                     \n",
              "     B365A             BWH              BWD              BWA        \n",
              " Min.   : 1.170   Min.   : 1.050   Min.   : 2.950   Min.   : 1.180  \n",
              " 1st Qu.: 2.600   1st Qu.: 1.650   1st Qu.: 3.300   1st Qu.: 2.600  \n",
              " Median : 3.700   Median : 2.100   Median : 3.600   Median : 3.700  \n",
              " Mean   : 5.192   Mean   : 2.744   Mean   : 4.278   Mean   : 5.204  \n",
              " 3rd Qu.: 5.500   3rd Qu.: 2.750   3rd Qu.: 4.330   3rd Qu.: 5.500  \n",
              " Max.   :34.000   Max.   :14.500   Max.   :15.500   Max.   :34.000  \n",
              "                                                                    \n",
              "      IWH              IWD              IWA              LBH        \n",
              " Min.   : 1.070   Min.   : 3.050   Min.   : 1.200   Min.   : 1.050  \n",
              " 1st Qu.: 1.650   1st Qu.: 3.300   1st Qu.: 2.600   1st Qu.: 1.610  \n",
              " Median : 2.100   Median : 3.500   Median : 3.500   Median : 2.050  \n",
              " Mean   : 2.721   Mean   : 4.161   Mean   : 5.041   Mean   : 2.742  \n",
              " 3rd Qu.: 2.700   3rd Qu.: 4.200   3rd Qu.: 5.300   3rd Qu.: 2.750  \n",
              " Max.   :15.000   Max.   :12.000   Max.   :27.000   Max.   :19.000  \n",
              "                                                    NA's   :1       \n",
              "      LBD              LBA              PSH              PSD        \n",
              " Min.   : 2.900   Min.   : 1.170   Min.   : 1.050   Min.   : 3.020  \n",
              " 1st Qu.: 3.250   1st Qu.: 2.575   1st Qu.: 1.660   1st Qu.: 3.410  \n",
              " Median : 3.500   Median : 3.600   Median : 2.120   Median : 3.705  \n",
              " Mean   : 4.152   Mean   : 5.375   Mean   : 2.857   Mean   : 4.539  \n",
              " 3rd Qu.: 4.200   3rd Qu.: 5.500   3rd Qu.: 2.850   3rd Qu.: 4.455  \n",
              " Max.   :17.000   Max.   :41.000   Max.   :19.650   Max.   :20.380  \n",
              " NA's   :1        NA's   :1                                         \n",
              "      PSA              WHH              WHD              WHA        \n",
              " Min.   : 1.180   Min.   : 1.060   Min.   : 2.900   Min.   : 1.170  \n",
              " 1st Qu.: 2.670   1st Qu.: 1.665   1st Qu.: 3.250   1st Qu.: 2.600  \n",
              " Median : 3.845   Median : 2.100   Median : 3.500   Median : 3.550  \n",
              " Mean   : 5.522   Mean   : 2.738   Mean   : 4.092   Mean   : 5.041  \n",
              " 3rd Qu.: 5.942   3rd Qu.: 2.750   3rd Qu.: 4.200   3rd Qu.: 5.500  \n",
              " Max.   :36.500   Max.   :17.000   Max.   :15.000   Max.   :26.000  \n",
              "                                                                    \n",
              "      VCH              VCD              VCA             Bb1X2      \n",
              " Min.   : 1.040   Min.   : 3.000   Min.   : 1.180   Min.   : 3.00  \n",
              " 1st Qu.: 1.650   1st Qu.: 3.400   1st Qu.: 2.630   1st Qu.:35.00  \n",
              " Median : 2.100   Median : 3.700   Median : 3.700   Median :37.00  \n",
              " Mean   : 2.762   Mean   : 4.416   Mean   : 5.472   Mean   :37.71  \n",
              " 3rd Qu.: 2.800   3rd Qu.: 4.400   3rd Qu.: 5.750   3rd Qu.:40.00  \n",
              " Max.   :15.000   Max.   :17.000   Max.   :36.000   Max.   :43.00  \n",
              "                                                                   \n",
              "     BbMxH            BbAvH            BbMxD            BbAvD       \n",
              " Min.   : 1.080   Min.   : 1.050   Min.   : 3.110   Min.   : 2.940  \n",
              " 1st Qu.: 1.700   1st Qu.: 1.640   1st Qu.: 3.478   1st Qu.: 3.328  \n",
              " Median : 2.200   Median : 2.090   Median : 3.750   Median : 3.570  \n",
              " Mean   : 2.966   Mean   : 2.743   Mean   : 4.636   Mean   : 4.261  \n",
              " 3rd Qu.: 2.882   3rd Qu.: 2.765   3rd Qu.: 4.553   3rd Qu.: 4.272  \n",
              " Max.   :19.650   Max.   :16.300   Max.   :20.380   Max.   :15.320  \n",
              "                                                                    \n",
              "     BbMxA            BbAvA             BbOU          BbMx.2.5    \n",
              " Min.   : 1.210   Min.   : 1.170   Min.   : 3.00   Min.   :1.130  \n",
              " 1st Qu.: 2.728   1st Qu.: 2.607   1st Qu.:31.75   1st Qu.:1.667  \n",
              " Median : 3.920   Median : 3.665   Median :34.00   Median :1.960  \n",
              " Mean   : 6.107   Mean   : 5.190   Mean   :34.06   Mean   :1.950  \n",
              " 3rd Qu.: 6.105   3rd Qu.: 5.543   3rd Qu.:37.00   3rd Qu.:2.203  \n",
              " Max.   :67.000   Max.   :33.420   Max.   :42.00   Max.   :3.080  \n",
              "                                                                  \n",
              "    BbAv.2.5       BbMx.2.5.1      BbAv.2.5.1         BbAH      \n",
              " Min.   :1.120   Min.   :1.470   Min.   :1.410   Min.   : 1.00  \n",
              " 1st Qu.:1.617   1st Qu.:1.780   1st Qu.:1.718   1st Qu.:17.00  \n",
              " Median :1.880   Median :2.000   Median :1.920   Median :18.00  \n",
              " Mean   :1.872   Mean   :2.284   Mean   :2.162   Mean   :18.16  \n",
              " 3rd Qu.:2.120   3rd Qu.:2.402   3rd Qu.:2.283   3rd Qu.:19.00  \n",
              " Max.   :2.850   Max.   :7.000   Max.   :5.970   Max.   :24.00  \n",
              "                                                                \n",
              "     BbAHh            BbMxAHH         BbAvAHH         BbMxAHA     \n",
              " Min.   :-3.2500   Min.   :1.610   Min.   :1.580   Min.   :1.680  \n",
              " 1st Qu.:-0.7500   1st Qu.:1.890   1st Qu.:1.840   1st Qu.:1.897  \n",
              " Median :-0.2500   Median :1.985   Median :1.930   Median :1.970  \n",
              " Mean   :-0.4059   Mean   :1.988   Mean   :1.938   Mean   :1.988  \n",
              " 3rd Qu.: 0.0625   3rd Qu.:2.070   3rd Qu.:2.020   3rd Qu.:2.080  \n",
              " Max.   : 2.0000   Max.   :2.420   Max.   :2.340   Max.   :2.520  \n",
              "                                                                  \n",
              "    BbAvAHA           PSCH             PSCD             PSCA       \n",
              " Min.   :1.630   Min.   : 1.060   Min.   : 2.930   Min.   : 1.160  \n",
              " 1st Qu.:1.850   1st Qu.: 1.640   1st Qu.: 3.410   1st Qu.: 2.590  \n",
              " Median :1.930   Median : 2.120   Median : 3.700   Median : 3.850  \n",
              " Mean   :1.937   Mean   : 2.839   Mean   : 4.508   Mean   : 5.695  \n",
              " 3rd Qu.:2.030   3rd Qu.: 2.980   3rd Qu.: 4.560   3rd Qu.: 6.095  \n",
              " Max.   :2.440   Max.   :18.700   Max.   :18.500   Max.   :46.000  \n",
              "                 NA's   :1        NA's   :1        NA's   :1       "
            ]
          },
          "metadata": {
            "tags": []
          }
        }
      ]
    },
    {
      "cell_type": "markdown",
      "metadata": {
        "id": "aaC_Q-9v_Y9t"
      },
      "source": [
        "Ahora se toman sólo las columnas requeridas. Con la función select del paquete dplyr selecciona únicamente las columnas Date, HomeTeam, AwayTeam, FTHG, FTAG y FTR; esto para cada uno de los data frames. (Hint: también puedes usar `lapply`)."
      ]
    },
    {
      "cell_type": "code",
      "metadata": {
        "id": "8HTX6PVh_cNY"
      },
      "source": [
        "data_new <- lapply(raw_data, select, c(\"Date\", \"HomeTeam\", \"AwayTeam\", \"FTHG\", \"FTAG\", \"FTR\"))"
      ],
      "execution_count": 10,
      "outputs": []
    },
    {
      "cell_type": "markdown",
      "metadata": {
        "id": "qVEGHUDv_eXk"
      },
      "source": [
        "Asegúrate de que los elementos de las columnas correspondientes de los nuevos data frames sean del mismo tipo (Hint 1: usa `as.Date` y `mutate` para arreglar las fechas). Con ayuda de la función `rbind` forma un único _data frame_ que contenga las seis columnas mencionadas en el punto 3 (Hint 2: la función `do.call` podría ser utilizada)."
      ]
    },
    {
      "cell_type": "markdown",
      "metadata": {
        "id": "ulBxSGMN_7x9"
      },
      "source": [
        "Se modificará el formato de fecha de la base de datos \"D-1920.csv\", porque el año en la fecha sólo contiene los últimos dos dígitos y se colcoará la fecha completa"
      ]
    },
    {
      "cell_type": "code",
      "metadata": {
        "id": "CEp7OY-Z___Z"
      },
      "source": [
        "data_mod1 <- lapply(data_new, mutate, Date = gsub(\"/17$\", \"/2017\", Date))\n",
        "data_mod1 <- lapply(data_mod1, mutate, Date = gsub(\"/18$\", \"/2018\", Date))"
      ],
      "execution_count": 11,
      "outputs": []
    },
    {
      "cell_type": "markdown",
      "metadata": {
        "id": "7h7E58AAAA4_"
      },
      "source": [
        "La función `gsub()` toma como primer parámetro una expresión regular de un frgamento de cadena de carácteres a reemplazar, como segundo parámetro la cadena a colocar en su lugar y como tercer parámetro la columna o arreglo de datos sobre el que hará esa búsqueda y modificación."
      ]
    },
    {
      "cell_type": "markdown",
      "metadata": {
        "id": "jFg166j0AH1U"
      },
      "source": [
        "Se va a dar el formato adecuado a la fecha."
      ]
    },
    {
      "cell_type": "code",
      "metadata": {
        "id": "7oVB5tNgAJog"
      },
      "source": [
        "data_mod2 <- lapply(data_mod1, mutate, Date = as.Date(Date, \"%d/%m/%Y\"))"
      ],
      "execution_count": 12,
      "outputs": []
    },
    {
      "cell_type": "markdown",
      "metadata": {
        "id": "MD5ITCtAAL1Z"
      },
      "source": [
        "Se combinarán las tres bases de datos en una sola."
      ]
    },
    {
      "cell_type": "code",
      "metadata": {
        "colab": {
          "base_uri": "https://localhost:8080/",
          "height": 283
        },
        "id": "JCTiGp-0ANYS",
        "outputId": "66a9d91c-bed5-480a-bc4d-3d604bdd0611"
      },
      "source": [
        "data_cleaned <- do.call(rbind, data_mod2)\n",
        "head(data_cleaned)"
      ],
      "execution_count": 13,
      "outputs": [
        {
          "output_type": "display_data",
          "data": {
            "text/plain": [
              "  Date       HomeTeam   AwayTeam   FTHG FTAG FTR\n",
              "1 2017-08-18 Leganes    Alaves     1    0    H  \n",
              "2 2017-08-18 Valencia   Las Palmas 1    0    H  \n",
              "3 2017-08-19 Celta      Sociedad   2    3    A  \n",
              "4 2017-08-19 Girona     Ath Madrid 2    2    D  \n",
              "5 2017-08-19 Sevilla    Espanol    1    1    D  \n",
              "6 2017-08-20 Ath Bilbao Getafe     0    0    D  "
            ],
            "text/latex": "A data.frame: 6 × 6\n\\begin{tabular}{r|llllll}\n  & Date & HomeTeam & AwayTeam & FTHG & FTAG & FTR\\\\\n  & <date> & <chr> & <chr> & <int> & <int> & <chr>\\\\\n\\hline\n\t1 & 2017-08-18 & Leganes    & Alaves     & 1 & 0 & H\\\\\n\t2 & 2017-08-18 & Valencia   & Las Palmas & 1 & 0 & H\\\\\n\t3 & 2017-08-19 & Celta      & Sociedad   & 2 & 3 & A\\\\\n\t4 & 2017-08-19 & Girona     & Ath Madrid & 2 & 2 & D\\\\\n\t5 & 2017-08-19 & Sevilla    & Espanol    & 1 & 1 & D\\\\\n\t6 & 2017-08-20 & Ath Bilbao & Getafe     & 0 & 0 & D\\\\\n\\end{tabular}\n",
            "text/markdown": "\nA data.frame: 6 × 6\n\n| <!--/--> | Date &lt;date&gt; | HomeTeam &lt;chr&gt; | AwayTeam &lt;chr&gt; | FTHG &lt;int&gt; | FTAG &lt;int&gt; | FTR &lt;chr&gt; |\n|---|---|---|---|---|---|---|\n| 1 | 2017-08-18 | Leganes    | Alaves     | 1 | 0 | H |\n| 2 | 2017-08-18 | Valencia   | Las Palmas | 1 | 0 | H |\n| 3 | 2017-08-19 | Celta      | Sociedad   | 2 | 3 | A |\n| 4 | 2017-08-19 | Girona     | Ath Madrid | 2 | 2 | D |\n| 5 | 2017-08-19 | Sevilla    | Espanol    | 1 | 1 | D |\n| 6 | 2017-08-20 | Ath Bilbao | Getafe     | 0 | 0 | D |\n\n",
            "text/html": [
              "<table class=\"dataframe\">\n",
              "<caption>A data.frame: 6 × 6</caption>\n",
              "<thead>\n",
              "\t<tr><th></th><th scope=col>Date</th><th scope=col>HomeTeam</th><th scope=col>AwayTeam</th><th scope=col>FTHG</th><th scope=col>FTAG</th><th scope=col>FTR</th></tr>\n",
              "\t<tr><th></th><th scope=col>&lt;date&gt;</th><th scope=col>&lt;chr&gt;</th><th scope=col>&lt;chr&gt;</th><th scope=col>&lt;int&gt;</th><th scope=col>&lt;int&gt;</th><th scope=col>&lt;chr&gt;</th></tr>\n",
              "</thead>\n",
              "<tbody>\n",
              "\t<tr><th scope=row>1</th><td>2017-08-18</td><td>Leganes   </td><td>Alaves    </td><td>1</td><td>0</td><td>H</td></tr>\n",
              "\t<tr><th scope=row>2</th><td>2017-08-18</td><td>Valencia  </td><td>Las Palmas</td><td>1</td><td>0</td><td>H</td></tr>\n",
              "\t<tr><th scope=row>3</th><td>2017-08-19</td><td>Celta     </td><td>Sociedad  </td><td>2</td><td>3</td><td>A</td></tr>\n",
              "\t<tr><th scope=row>4</th><td>2017-08-19</td><td>Girona    </td><td>Ath Madrid</td><td>2</td><td>2</td><td>D</td></tr>\n",
              "\t<tr><th scope=row>5</th><td>2017-08-19</td><td>Sevilla   </td><td>Espanol   </td><td>1</td><td>1</td><td>D</td></tr>\n",
              "\t<tr><th scope=row>6</th><td>2017-08-20</td><td>Ath Bilbao</td><td>Getafe    </td><td>0</td><td>0</td><td>D</td></tr>\n",
              "</tbody>\n",
              "</table>\n"
            ]
          },
          "metadata": {
            "tags": []
          }
        }
      ]
    },
    {
      "cell_type": "code",
      "metadata": {
        "colab": {
          "base_uri": "https://localhost:8080/",
          "height": 34
        },
        "id": "NMW4LIgooS7p",
        "outputId": "07892693-3572-40d1-b24b-b7e5c29a7c19"
      },
      "source": [
        "dim(data_cleaned)"
      ],
      "execution_count": 14,
      "outputs": [
        {
          "output_type": "display_data",
          "data": {
            "text/plain": [
              "[1] 1140    6"
            ],
            "text/latex": "\\begin{enumerate*}\n\\item 1140\n\\item 6\n\\end{enumerate*}\n",
            "text/markdown": "1. 1140\n2. 6\n\n\n",
            "text/html": [
              "<style>\n",
              ".list-inline {list-style: none; margin:0; padding: 0}\n",
              ".list-inline>li {display: inline-block}\n",
              ".list-inline>li:not(:last-child)::after {content: \"\\00b7\"; padding: 0 .5ex}\n",
              "</style>\n",
              "<ol class=list-inline><li>1140</li><li>6</li></ol>\n"
            ]
          },
          "metadata": {
            "tags": []
          }
        }
      ]
    }
  ]
}