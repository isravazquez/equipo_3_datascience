{
  "nbformat": 4,
  "nbformat_minor": 0,
  "metadata": {
    "colab": {
      "name": "Postwork 4.ipynb",
      "provenance": [],
      "collapsed_sections": [],
      "authorship_tag": "ABX9TyNMVLvjOgZ4gum3jGijtnqC",
      "include_colab_link": true
    },
    "kernelspec": {
      "name": "ir",
      "display_name": "R"
    },
    "language_info": {
      "name": "R"
    }
  },
  "cells": [
    {
      "cell_type": "markdown",
      "metadata": {
        "id": "view-in-github",
        "colab_type": "text"
      },
      "source": [
        "<a href=\"https://colab.research.google.com/github/isravazquez/equipo_3_datascience/blob/master/Postwork-4.ipynb\" target=\"_parent\"><img src=\"https://colab.research.google.com/assets/colab-badge.svg\" alt=\"Open In Colab\"/></a>"
      ]
    },
    {
      "cell_type": "markdown",
      "metadata": {
        "id": "kaB0a-DjarW7"
      },
      "source": [
        "# Postwork 4\n",
        "\n",
        "## Data Science on Bedu\n",
        "\n",
        "## Integrantes:\n",
        "* Arriaga Palma Fernando, arriaga141@gmail.com\n",
        "* Hernández Angulo Juan de Jesus, jhernandezangulo@gmail.com\n",
        "* Martínez Ibarra Hugo, hugomtzib@gmail.com\n",
        "* Moreno Abrego Bryan Daniel, abre.go@outlook.com\n",
        "* Silva Tijerina Gilberto, gilberto.silvat2812@gmail.com\n",
        "* Vazquez Bernal Jaime Israel, israfullshot@gmail.com\n",
        "\n",
        "Ahora se investigará la dependencia o independencia del número de goles anotados por el equipo de casa y el número de goles anotados por el equipo visitante mediante un procedimiento denominado bootstrap, revisa bibliografía en internet para que tengas nociones de este desarrollo.\n",
        "\n",
        "Ya se han estimado las probabilidades conjuntas de que el equipo de casa anote X=x goles (x=0,1,... ,8), y el equipo visitante anote Y=y goles (y=0,1,... ,6), en un partido. Obtén una tabla de cocientes al dividir estas probabilidades conjuntas por el producto de las probabilidades marginales correspondientes.\n",
        "\n",
        "Se utilizará la biblioteca `dplyr`"
      ]
    },
    {
      "cell_type": "code",
      "metadata": {
        "colab": {
          "base_uri": "https://localhost:8080/"
        },
        "id": "9St7NIdrfiic",
        "outputId": "ad005d12-3456-4681-af73-1bf4e8804333"
      },
      "source": [
        "library(dplyr)"
      ],
      "execution_count": 1,
      "outputs": [
        {
          "output_type": "stream",
          "text": [
            "\n",
            "Attaching package: ‘dplyr’\n",
            "\n",
            "\n",
            "The following objects are masked from ‘package:stats’:\n",
            "\n",
            "    filter, lag\n",
            "\n",
            "\n",
            "The following objects are masked from ‘package:base’:\n",
            "\n",
            "    intersect, setdiff, setequal, union\n",
            "\n",
            "\n"
          ],
          "name": "stderr"
        }
      ]
    },
    {
      "cell_type": "markdown",
      "metadata": {
        "id": "p7bnIuzbflL0"
      },
      "source": [
        "Importar la tabla `joint_proba` del postwork 3 y `data_cleaned` del postwork 2"
      ]
    },
    {
      "cell_type": "code",
      "metadata": {
        "id": "5FxfCI-_euiP"
      },
      "source": [
        "joint_proba <- read.csv('https://bedu-ds.azurewebsites.net/data/joint_proba.csv')\n",
        "data_cleaned <- read.csv('https://bedu-ds.azurewebsites.net/data/data_cleaned.csv')"
      ],
      "execution_count": 2,
      "outputs": []
    },
    {
      "cell_type": "markdown",
      "metadata": {
        "id": "fEDJgy2JemQT"
      },
      "source": [
        "Función para obtener el cociente de la probabilidad conjunta y el producto de las proababildiades marginales"
      ]
    },
    {
      "cell_type": "code",
      "metadata": {
        "id": "3ficfE74coet"
      },
      "source": [
        "quotients.proba <- function(tabla) # x es la tabla de frecuencias relativa (probabilidad conjunta).\n",
        "{\n",
        "  mx<-rowSums(tabla) # Genera la probabilidad marginal de x (local).\n",
        "  my<-colSums(tabla) # Genera la probabilidad marginal de y (visitante).\n",
        "  dx<-length(mx)\n",
        "  dy<-length(my)\n",
        "  table_quotients<-matrix(nrow = dx, ncol = dy)\n",
        "  for(i in 1:dx){\n",
        "    for(j in 1:dy){\n",
        "      table_quotients[i,j]<-tabla[i,j]/(mx[i]*my[j])\n",
        "    }\n",
        "  }\n",
        "  return(table_quotients)\n",
        "}"
      ],
      "execution_count": 3,
      "outputs": []
    },
    {
      "cell_type": "markdown",
      "metadata": {
        "id": "sau9PSbTc1tU"
      },
      "source": [
        "Esta es la tabla/matriz de cocientes."
      ]
    },
    {
      "cell_type": "code",
      "metadata": {
        "colab": {
          "base_uri": "https://localhost:8080/",
          "height": 313
        },
        "id": "8AykfCU8c2oq",
        "outputId": "ddaffa70-0f00-4e87-e0b9-6a22c8f861a1"
      },
      "source": [
        "quotients.proba(joint_proba)"
      ],
      "execution_count": 4,
      "outputs": [
        {
          "output_type": "display_data",
          "data": {
            "text/plain": [
              "      [,1]       [,2]        [,3]         [,4]         [,5]        [,6]       \n",
              " [1,] 0.00000000 0.954782854 1.0200350126 0.9243723686 1.457090688 0.782161235\n",
              " [2,] 0.02092972 0.248025013 0.2543931971 0.2428539435 0.243054815 0.228324220\n",
              " [3,] 0.02450980 0.110019070 0.1216646452 0.1276130287 0.092504744 0.133689840\n",
              " [4,] 0.02677565 0.040864580 0.0306401748 0.0371761067 0.036276685 0.019473199\n",
              " [5,] 0.02753623 0.009888323 0.0076647243 0.0081925979 0.000000000 0.030039526\n",
              " [6,] 0.02767098 0.004968355 0.0030808923 0.0041163438 0.000000000 0.006037304\n",
              " [7,] 0.02775343 0.001245790 0.0008583536 0.0000000000 0.002685816 0.000000000\n",
              " [8,] 0.02777430 0.000000000 0.0003681424 0.0000000000 0.000000000 0.000000000\n",
              " [9,] 0.02777473 0.000000000 0.0000000000 0.0005164723 0.000000000 0.000000000\n",
              "      [,7]      [,8]     \n",
              " [1,] 1.9554031 0.0000000\n",
              " [2,] 0.1369945 0.0000000\n",
              " [3,] 0.0802139 0.2941176\n",
              " [4,] 0.0584196 0.1071026\n",
              " [5,] 0.0000000 0.0000000\n",
              " [6,] 0.0000000 0.0000000\n",
              " [7,] 0.0000000 0.0000000\n",
              " [8,] 0.0000000 0.0000000\n",
              " [9,] 0.0000000 0.0000000"
            ],
            "text/latex": "A matrix: 9 × 8 of type dbl\n\\begin{tabular}{llllllll}\n\t 0.00000000 & 0.954782854 & 1.0200350126 & 0.9243723686 & 1.457090688 & 0.782161235 & 1.9554031 & 0.0000000\\\\\n\t 0.02092972 & 0.248025013 & 0.2543931971 & 0.2428539435 & 0.243054815 & 0.228324220 & 0.1369945 & 0.0000000\\\\\n\t 0.02450980 & 0.110019070 & 0.1216646452 & 0.1276130287 & 0.092504744 & 0.133689840 & 0.0802139 & 0.2941176\\\\\n\t 0.02677565 & 0.040864580 & 0.0306401748 & 0.0371761067 & 0.036276685 & 0.019473199 & 0.0584196 & 0.1071026\\\\\n\t 0.02753623 & 0.009888323 & 0.0076647243 & 0.0081925979 & 0.000000000 & 0.030039526 & 0.0000000 & 0.0000000\\\\\n\t 0.02767098 & 0.004968355 & 0.0030808923 & 0.0041163438 & 0.000000000 & 0.006037304 & 0.0000000 & 0.0000000\\\\\n\t 0.02775343 & 0.001245790 & 0.0008583536 & 0.0000000000 & 0.002685816 & 0.000000000 & 0.0000000 & 0.0000000\\\\\n\t 0.02777430 & 0.000000000 & 0.0003681424 & 0.0000000000 & 0.000000000 & 0.000000000 & 0.0000000 & 0.0000000\\\\\n\t 0.02777473 & 0.000000000 & 0.0000000000 & 0.0005164723 & 0.000000000 & 0.000000000 & 0.0000000 & 0.0000000\\\\\n\\end{tabular}\n",
            "text/markdown": "\nA matrix: 9 × 8 of type dbl\n\n| 0.00000000 | 0.954782854 | 1.0200350126 | 0.9243723686 | 1.457090688 | 0.782161235 | 1.9554031 | 0.0000000 |\n| 0.02092972 | 0.248025013 | 0.2543931971 | 0.2428539435 | 0.243054815 | 0.228324220 | 0.1369945 | 0.0000000 |\n| 0.02450980 | 0.110019070 | 0.1216646452 | 0.1276130287 | 0.092504744 | 0.133689840 | 0.0802139 | 0.2941176 |\n| 0.02677565 | 0.040864580 | 0.0306401748 | 0.0371761067 | 0.036276685 | 0.019473199 | 0.0584196 | 0.1071026 |\n| 0.02753623 | 0.009888323 | 0.0076647243 | 0.0081925979 | 0.000000000 | 0.030039526 | 0.0000000 | 0.0000000 |\n| 0.02767098 | 0.004968355 | 0.0030808923 | 0.0041163438 | 0.000000000 | 0.006037304 | 0.0000000 | 0.0000000 |\n| 0.02775343 | 0.001245790 | 0.0008583536 | 0.0000000000 | 0.002685816 | 0.000000000 | 0.0000000 | 0.0000000 |\n| 0.02777430 | 0.000000000 | 0.0003681424 | 0.0000000000 | 0.000000000 | 0.000000000 | 0.0000000 | 0.0000000 |\n| 0.02777473 | 0.000000000 | 0.0000000000 | 0.0005164723 | 0.000000000 | 0.000000000 | 0.0000000 | 0.0000000 |\n\n",
            "text/html": [
              "<table class=\"dataframe\">\n",
              "<caption>A matrix: 9 × 8 of type dbl</caption>\n",
              "<tbody>\n",
              "\t<tr><td>0.00000000</td><td>0.954782854</td><td>1.0200350126</td><td>0.9243723686</td><td>1.457090688</td><td>0.782161235</td><td>1.9554031</td><td>0.0000000</td></tr>\n",
              "\t<tr><td>0.02092972</td><td>0.248025013</td><td>0.2543931971</td><td>0.2428539435</td><td>0.243054815</td><td>0.228324220</td><td>0.1369945</td><td>0.0000000</td></tr>\n",
              "\t<tr><td>0.02450980</td><td>0.110019070</td><td>0.1216646452</td><td>0.1276130287</td><td>0.092504744</td><td>0.133689840</td><td>0.0802139</td><td>0.2941176</td></tr>\n",
              "\t<tr><td>0.02677565</td><td>0.040864580</td><td>0.0306401748</td><td>0.0371761067</td><td>0.036276685</td><td>0.019473199</td><td>0.0584196</td><td>0.1071026</td></tr>\n",
              "\t<tr><td>0.02753623</td><td>0.009888323</td><td>0.0076647243</td><td>0.0081925979</td><td>0.000000000</td><td>0.030039526</td><td>0.0000000</td><td>0.0000000</td></tr>\n",
              "\t<tr><td>0.02767098</td><td>0.004968355</td><td>0.0030808923</td><td>0.0041163438</td><td>0.000000000</td><td>0.006037304</td><td>0.0000000</td><td>0.0000000</td></tr>\n",
              "\t<tr><td>0.02775343</td><td>0.001245790</td><td>0.0008583536</td><td>0.0000000000</td><td>0.002685816</td><td>0.000000000</td><td>0.0000000</td><td>0.0000000</td></tr>\n",
              "\t<tr><td>0.02777430</td><td>0.000000000</td><td>0.0003681424</td><td>0.0000000000</td><td>0.000000000</td><td>0.000000000</td><td>0.0000000</td><td>0.0000000</td></tr>\n",
              "\t<tr><td>0.02777473</td><td>0.000000000</td><td>0.0000000000</td><td>0.0005164723</td><td>0.000000000</td><td>0.000000000</td><td>0.0000000</td><td>0.0000000</td></tr>\n",
              "</tbody>\n",
              "</table>\n"
            ]
          },
          "metadata": {
            "tags": []
          }
        }
      ]
    },
    {
      "cell_type": "markdown",
      "metadata": {
        "id": "5skwxNh8c4Eg"
      },
      "source": [
        "Mediante un procedimiento de boostrap, obtén más cocientes similares a los obtenidos en la tabla del punto anterior. Esto para tener una idea de las distribuciones de la cual vienen los cocientes en la tabla anterior. Menciona en cuáles casos le parece razonable suponer que los cocientes de la tabla en el punto 1, son iguales a 1 (en tal caso tendríamos independencia de las variables aleatorias X y Y).\n",
        "\n",
        "Primero filtraremos sólo las columnas necesarias del data frame de los datos de goles que resultó de la limpieza."
      ]
    },
    {
      "cell_type": "code",
      "metadata": {
        "id": "UXyFfKUUdA6x"
      },
      "source": [
        "goals <- select(data_cleaned, FTHG, FTAG)"
      ],
      "execution_count": 5,
      "outputs": []
    },
    {
      "cell_type": "markdown",
      "metadata": {
        "id": "sJxUZ81ydBYV"
      },
      "source": [
        "## Procedimiento boostrap\n",
        "\n",
        "Se generan muestreos de los datos de goles un cierto némero de veces o repeticiones."
      ]
    },
    {
      "cell_type": "code",
      "metadata": {
        "id": "R9GSHZU5gLdH"
      },
      "source": [
        "repetitions <- 100\n",
        "goals_samples <- list()\n",
        "for(i in 1:repetitions){\n",
        "  goals_samples[[i]] <- sample_n(goals,dim(goals)[1],replace = T)\n",
        "}"
      ],
      "execution_count": 6,
      "outputs": []
    },
    {
      "cell_type": "markdown",
      "metadata": {
        "id": "LI1q5jxUgPmF"
      },
      "source": [
        "`sample_n(goals,dim(goals)[1],replace = T)` genera un muestreo de un data frame (goals) con el mismo número de datos que el data frame original `(dim(goals)[1])`, pero con reemplazamiento (algunos datos se pueden repetir), que precisamente es en lo que consiste el proceso bootstrap.\n",
        "\n",
        "Ahora, se crean las tablas de frecuencia para cada muestra."
      ]
    },
    {
      "cell_type": "code",
      "metadata": {
        "id": "XwyICZLOgal0"
      },
      "source": [
        "freq_absolute <- lapply(goals_samples, table)"
      ],
      "execution_count": 7,
      "outputs": []
    },
    {
      "cell_type": "markdown",
      "metadata": {
        "id": "UDXs9_kUgdPM"
      },
      "source": [
        "Esta función convierte la tabla de frecuencias absolutas (de arriba) en una tabla de frecuencias relativas."
      ]
    },
    {
      "cell_type": "code",
      "metadata": {
        "id": "V9mIV0OqgeNd"
      },
      "source": [
        "freq.relative <- function(tabla){\n",
        "  tabla <- tabla/sum(tabla)\n",
        "}"
      ],
      "execution_count": 8,
      "outputs": []
    },
    {
      "cell_type": "markdown",
      "metadata": {
        "id": "0ImUHySsggy4"
      },
      "source": [
        "Lo siguiente es aplicar la función anterior a todas las tablas de frecuencias absolutas. Con esto se obtiene las probabilidades conjuntas para cada muestra."
      ]
    },
    {
      "cell_type": "code",
      "metadata": {
        "id": "jDQb5Ex2glsq"
      },
      "source": [
        "joint_prpba_samples <- lapply(freq_absolute, freq.relative)"
      ],
      "execution_count": 9,
      "outputs": []
    },
    {
      "cell_type": "markdown",
      "metadata": {
        "id": "9Of7eZZZgoEK"
      },
      "source": [
        "Se aplica la función de cociente de probabilidad a todas las tablas de frecuencias relativas."
      ]
    },
    {
      "cell_type": "code",
      "metadata": {
        "id": "6ol-KYofgo4x"
      },
      "source": [
        "quotients_samples <- lapply(joint_prpba_samples, quotients.proba)"
      ],
      "execution_count": 10,
      "outputs": []
    },
    {
      "cell_type": "markdown",
      "metadata": {
        "id": "37RogUyOgsAf"
      },
      "source": [
        "Se planteará una prueba de hipótesis para determinar si hay suficiente evidencia estadistica que determine si la media de estos cocientes es igual a 1 (independencia entre X e Y) o diferente de 1 (dependencia entre X e Y).\n",
        "\n",
        "A continuación, se obtienen las medias de cada muestra (tabla)."
      ]
    },
    {
      "cell_type": "code",
      "metadata": {
        "id": "qgkUGMWcgxAP"
      },
      "source": [
        "mean_samples <- sapply(quotients_samples, mean)"
      ],
      "execution_count": 11,
      "outputs": []
    },
    {
      "cell_type": "markdown",
      "metadata": {
        "id": "L5hMYW9lgzAe"
      },
      "source": [
        "**H0: media = 1** (independencia entre las variables X e Y) vs **H1: media != 1** (dependencia entre las variables X e Y).\n",
        "\n",
        "Obtenemos la media y desviación estándar de las muestras."
      ]
    },
    {
      "cell_type": "code",
      "metadata": {
        "id": "p1Eia_pRg-XZ"
      },
      "source": [
        "mean_est <- mean(mean_samples)\n",
        "des_est <- sd(mean_samples)/sqrt(length(mean_samples))"
      ],
      "execution_count": 12,
      "outputs": []
    },
    {
      "cell_type": "markdown",
      "metadata": {
        "id": "hl5cWUIZhAme"
      },
      "source": [
        "Como el Teorema del límite central indica que las medias se distribuyen de manera normal por lo que se procederá a usar el siguiente estadístico:"
      ]
    },
    {
      "cell_type": "code",
      "metadata": {
        "id": "PGTP_Q52hCSI"
      },
      "source": [
        "test_statistic <- (mean_est-1)/des_est"
      ],
      "execution_count": 13,
      "outputs": []
    },
    {
      "cell_type": "markdown",
      "metadata": {
        "id": "ESF8csQ5hGPD"
      },
      "source": [
        "Como es una prueba bilateral se usa el siguiente p-valor:"
      ]
    },
    {
      "cell_type": "code",
      "metadata": {
        "colab": {
          "base_uri": "https://localhost:8080/"
        },
        "id": "5abZyqhahI5n",
        "outputId": "62b286f9-6a77-4e21-afda-c1c95f26d430"
      },
      "source": [
        "p_value <- 2*pnorm(abs(test_statistic),lower.tail = F)\n",
        "print(p_value)"
      ],
      "execution_count": 14,
      "outputs": [
        {
          "output_type": "stream",
          "text": [
            "[1] 6.751556e-52\n"
          ],
          "name": "stdout"
        }
      ]
    },
    {
      "cell_type": "markdown",
      "metadata": {
        "id": "j4FrKCbhhN53"
      },
      "source": [
        "Lo siguiente es para hacer una conclusión sobre el constraste de hipótesis de acuerdo a un valor de confianza del 95%."
      ]
    },
    {
      "cell_type": "code",
      "metadata": {
        "colab": {
          "base_uri": "https://localhost:8080/"
        },
        "id": "g8hcFTXqhPyF",
        "outputId": "d5f9b759-20d4-4b70-dc04-94fed7b9c417"
      },
      "source": [
        "if (p_value < 0.05){\n",
        "  print(\"Se rechaza la hipótesis nula H0; es decir, con un 95% de confianza hay evidencia estadística para decir que la media de los cocientes es diferente de 1 lo cual indica que no existe independencia entre las variables\")\n",
        "} else{\n",
        "  print(\"No se rechaza la hipótesis nula H0; es decir, NO hay evidencia estadística para decir que la media de los cocientes es diferente de 1 lo cual indica que existe independencia entre las variables\")\n",
        "}"
      ],
      "execution_count": 15,
      "outputs": [
        {
          "output_type": "stream",
          "text": [
            "[1] \"Se rechaza la hipótesis nula H0; es decir, con un 95% de confianza hay evidencia estadística para decir que la media de los cocientes es diferente de 1 lo cual indica que no existe independencia entre las variables\"\n"
          ],
          "name": "stdout"
        }
      ]
    },
    {
      "cell_type": "markdown",
      "metadata": {
        "id": "084RLAWrhRLb"
      },
      "source": [
        "Se puede graficar un histograma de las medias de las muestras que apoya el resultado anterior."
      ]
    },
    {
      "cell_type": "code",
      "metadata": {
        "colab": {
          "base_uri": "https://localhost:8080/",
          "height": 437
        },
        "id": "hwUWvEJmhTJO",
        "outputId": "ac05847d-9ecf-49d6-bc91-71689488d50a"
      },
      "source": [
        "hist(mean_samples, col = \"gold\", border = \"black\",\n",
        "     main = \"Histograma de medias\",\n",
        "     xlab = \"Medias\", ylab = \"Frecuencias\")"
      ],
      "execution_count": 16,
      "outputs": [
        {
          "output_type": "display_data",
          "data": {
            "image/png": "[encoded data removed]",
            "text/plain": [
              "Plot with title “Histograma de medias”"
            ]
          },
          "metadata": {
            "tags": [],
            "image/png": {
              "width": 420,
              "height": 420
            }
          }
        }
      ]
    }
  ]
}