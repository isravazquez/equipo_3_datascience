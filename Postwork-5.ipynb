{
  "nbformat": 4,
  "nbformat_minor": 0,
  "metadata": {
    "colab": {
      "name": "Postwork 5.ipynb",
      "provenance": [],
      "collapsed_sections": [],
      "authorship_tag": "ABX9TyPIpgMKaCfpwyZgyLLbyH33",
      "include_colab_link": true
    },
    "kernelspec": {
      "name": "ir",
      "display_name": "R"
    },
    "language_info": {
      "name": "R"
    }
  },
  "cells": [
    {
      "cell_type": "markdown",
      "metadata": {
        "id": "view-in-github",
        "colab_type": "text"
      },
      "source": [
        "<a href=\"https://colab.research.google.com/github/isravazquez/equipo_3_datascience/blob/master/Postwork-5.ipynb\" target=\"_parent\"><img src=\"https://colab.research.google.com/assets/colab-badge.svg\" alt=\"Open In Colab\"/></a>"
      ]
    },
    {
      "cell_type": "markdown",
      "metadata": {
        "id": "uigv1ABc1fGU"
      },
      "source": [
        "# Postwork 5\n",
        "\n",
        "## Data Science on Bedu\n",
        "\n",
        "## Integrantes:\n",
        "* Arriaga Palma Fernando, arriaga141@gmail.com\n",
        "* Hernández Angulo Juan de Jesus, jhernandezangulo@gmail.com\n",
        "* Martínez Ibarra Hugo, hugomtzib@gmail.com\n",
        "* Moreno Abrego Bryan Daniel, abre.go@outlook.com\n",
        "* Silva Tijerina Gilberto, gilberto.silvat2812@gmail.com\n",
        "* Vazquez Bernal Jaime Israel, israfullshot@gmail.com\n",
        "\n",
        "---\n",
        "\n",
        "Se utilizará la biblioteca `dplyr`."
      ]
    },
    {
      "cell_type": "code",
      "metadata": {
        "id": "qKX6o-ta4cY9"
      },
      "source": [
        "library(dplyr)"
      ],
      "execution_count": 3,
      "outputs": []
    },
    {
      "cell_type": "markdown",
      "metadata": {
        "id": "rgO5iZ4H4gPO"
      },
      "source": [
        "1. A partir del conjunto de datos de soccer de la liga española de las temporadas 2017/2018, 2018/2019 y 2019/2020, crea el _data frame_ SmallData, que contenga las columnas date, home.team, home.score, away.team y away.score; esto lo puede hacer con ayuda de la función select del paquete dplyr. Luego establece un directorio de trabajo y con ayuda de la función write.csv guarda el data frame como un archivo csv con nombre soccer.csv. Puedes colocar como argumento row.names = FALSE en write.csv.\n",
        "\n",
        " El dataset _data_cleaned_ se recupera de nuestro servidor en Azure."
      ]
    },
    {
      "cell_type": "code",
      "metadata": {
        "id": "21JBgqae2i7f"
      },
      "source": [
        "data_cleaned <- read.csv('https://bedu-ds.azurewebsites.net/data/data_cleaned.csv')"
      ],
      "execution_count": 4,
      "outputs": []
    },
    {
      "cell_type": "markdown",
      "metadata": {
        "id": "BAn2GAX539kF"
      },
      "source": [
        "Se lleva a cabo la selección de las columnas requeridas para el análisis."
      ]
    },
    {
      "cell_type": "code",
      "metadata": {
        "id": "cz2qlNAS3-Sy"
      },
      "source": [
        "SmallData <- select(data_cleaned, Date:FTAG)"
      ],
      "execution_count": 5,
      "outputs": []
    },
    {
      "cell_type": "markdown",
      "metadata": {
        "id": "orAVCo084ozn"
      },
      "source": [
        "Se renombran las columnas con los nombres requeridos para las siguientes funciones."
      ]
    },
    {
      "cell_type": "code",
      "metadata": {
        "id": "LPEJ_Aiy4rRk"
      },
      "source": [
        "SmallData <- rename(SmallData, date = Date, home.team = HomeTeam, away.team = AwayTeam, home.score = FTHG, away.score = FTAG)"
      ],
      "execution_count": 6,
      "outputs": []
    },
    {
      "cell_type": "markdown",
      "metadata": {
        "id": "WYo_qp9V4uSj"
      },
      "source": [
        "Se escriben los datos en el archivo soccer.csv"
      ]
    },
    {
      "cell_type": "code",
      "metadata": {
        "id": "tKOSGah740W_"
      },
      "source": [
        "write.csv(SmallData, \"soccer.csv\", quote = T, row.names = F)"
      ],
      "execution_count": 7,
      "outputs": []
    },
    {
      "cell_type": "markdown",
      "metadata": {
        "id": "7t5PgxBO5BN-"
      },
      "source": [
        "2. Con la función `create.fbRanks.dataframes` del paquete _fbRanks_ importe el archivo _soccer.csv_ a R y al mismo tiempo asignelo a una variable llamada _listasoccer_. Se creará una lista con los elementos scores y teams que son data frames listos para la función `rank.teams`. Asigna estos data frames a variables llamadas anotaciones y equipos."
      ]
    },
    {
      "cell_type": "code",
      "metadata": {
        "colab": {
          "base_uri": "https://localhost:8080/"
        },
        "id": "TRHVQZzy5PdN",
        "outputId": "5f353949-61d8-4dcb-c8c1-c4074869459b"
      },
      "source": [
        "install.packages(\"fbRanks\")\n",
        "library(fbRanks)"
      ],
      "execution_count": 8,
      "outputs": [
        {
          "output_type": "stream",
          "text": [
            "Installing package into ‘/usr/local/lib/R/site-library’\n",
            "(as ‘lib’ is unspecified)\n",
            "\n",
            "also installing the dependency ‘igraph’\n",
            "\n",
            "\n"
          ],
          "name": "stderr"
        }
      ]
    },
    {
      "cell_type": "markdown",
      "metadata": {
        "id": "I3DyJ1Wx5Ur2"
      },
      "source": [
        "Se usa la función `create.fbRanks.dataframes()` que tiene como argumento el archivo de datos anterior."
      ]
    },
    {
      "cell_type": "code",
      "metadata": {
        "colab": {
          "base_uri": "https://localhost:8080/"
        },
        "id": "kQBKtI3z5bRI",
        "outputId": "fa11224c-5ddf-443b-c601-7b68d68dd043"
      },
      "source": [
        "listasoccer <- create.fbRanks.dataframes(scores.file = \"soccer.csv\")"
      ],
      "execution_count": 9,
      "outputs": [
        {
          "output_type": "stream",
          "text": [
            "Alert: teams info file was not passed in.\n",
            "Will construct one from the scores data frame but teams in the scores file must use a unique name.\n",
            "Alert: teams resolver was not passed in.\n",
            "Will construct one from the team info data frame.\n"
          ],
          "name": "stdout"
        },
        {
          "output_type": "stream",
          "text": [
            "Warning message:\n",
            "“no DISPLAY variable so Tk is not available”\n"
          ],
          "name": "stderr"
        }
      ]
    },
    {
      "cell_type": "markdown",
      "metadata": {
        "id": "56KOjayC5dkA"
      },
      "source": [
        "Esto crea una lista de listas que contiene entre otras cosas, los nombres de los equipos y los datos de las anotaciones.\n",
        "\n",
        "Dichos datos se alamcenan en las siguientes variables."
      ]
    },
    {
      "cell_type": "code",
      "metadata": {
        "id": "SnIkCZ0E5hkH"
      },
      "source": [
        "anotaciones <- listasoccer[[1]]\n",
        "equipos <- listasoccer[[4]]"
      ],
      "execution_count": 10,
      "outputs": []
    },
    {
      "cell_type": "markdown",
      "metadata": {
        "id": "tKhowrqs5ktR"
      },
      "source": [
        "3. Con ayuda de la función unique crea un vector de fechas (fecha) que no se repitan y que correspondan a las fechas en las que se jugaron partidos. Crea una variable llamada n que contenga el número de fechas diferentes. Posteriormente, con la función rank.teams y usando como argumentos los data frames anotaciones y equipos, crea un ranking de equipos usando únicamente datos desde la fecha inicial y hasta la penúltima fecha en la que se jugaron partidos, estas fechas las deberá especificar en max.date y min.date. Guarda los resultados con el nombre ranking.\n",
        "\n",
        " Se crea la lista de fechas de partidos jugados"
      ]
    },
    {
      "cell_type": "code",
      "metadata": {
        "id": "bvqFGjVI5vhE"
      },
      "source": [
        "fecha <- unique(anotaciones$date)"
      ],
      "execution_count": 11,
      "outputs": []
    },
    {
      "cell_type": "markdown",
      "metadata": {
        "id": "M1-Tn2PT5xbg"
      },
      "source": [
        "Se ordenan las fechas."
      ]
    },
    {
      "cell_type": "code",
      "metadata": {
        "id": "7GWD9p5y5yHh"
      },
      "source": [
        "fecha <- sort(fecha)"
      ],
      "execution_count": 12,
      "outputs": []
    },
    {
      "cell_type": "markdown",
      "metadata": {
        "id": "hVHiTNjU52ay"
      },
      "source": [
        "Se cuenta el número total de fechas."
      ]
    },
    {
      "cell_type": "code",
      "metadata": {
        "id": "m2Z_s_yi53Ys"
      },
      "source": [
        "n <- length(fecha)"
      ],
      "execution_count": 13,
      "outputs": []
    },
    {
      "cell_type": "markdown",
      "metadata": {
        "id": "yLDprb4U52i7"
      },
      "source": [
        "Se obtiene la fecha inicial y la penúltima, requeridas para la siguiente función."
      ]
    },
    {
      "cell_type": "code",
      "metadata": {
        "id": "F2jsJhVS565v"
      },
      "source": [
        "min_fecha = fecha[1]\n",
        "max_fecha = fecha[n-1]"
      ],
      "execution_count": 14,
      "outputs": []
    },
    {
      "cell_type": "markdown",
      "metadata": {
        "id": "qxGLeT6Q591G"
      },
      "source": [
        "Se crea el objeto ranking que contiene un análisis de los partidos a aprtir de los datos extraidos anteriormente."
      ]
    },
    {
      "cell_type": "code",
      "metadata": {
        "colab": {
          "base_uri": "https://localhost:8080/"
        },
        "id": "1UYmlwIk5-oS",
        "outputId": "d227c1d5-eb99-4355-86ef-42fec6a50f11"
      },
      "source": [
        "ranking <- rank.teams(scores = anotaciones, teams = equipos,  family=\"poisson\", fun=\"glm\", max.date = max_fecha, min.date = min_fecha)"
      ],
      "execution_count": 15,
      "outputs": [
        {
          "output_type": "stream",
          "text": [
            "\n",
            "Team Rankings based on matches 2017-08-18 to 2020-07-16\n",
            "   team        total attack defense n.games.Var1 n.games.Freq\n",
            "1  Barcelona    1.51 2.23   1.28    Barcelona    113         \n",
            "2  Ath Madrid   1.24 1.33   1.78    Ath Madrid   113         \n",
            "3  Real Madrid  1.15 1.86   1.19    Real Madrid  113         \n",
            "4  Valencia     0.56 1.34   1.10    Valencia     113         \n",
            "5  Getafe       0.55 1.10   1.33    Getafe       113         \n",
            "6  Sevilla      0.43 1.37   0.98    Sevilla      113         \n",
            "7  Granada      0.37 1.26   1.03    Granada       37         \n",
            "8  Villarreal   0.33 1.38   0.91    Villarreal   113         \n",
            "9  Sociedad     0.32 1.39   0.90    Sociedad     113         \n",
            "10 Ath Bilbao   0.15 1.02   1.09    Ath Bilbao   113         \n",
            "11 Osasuna      0.07 1.18   0.89    Osasuna       37         \n",
            "12 Betis        0.05 1.28   0.81    Betis        113         \n",
            "13 Celta        0.02 1.26   0.81    Celta        113         \n",
            "14 Eibar       -0.02 1.08   0.91    Eibar        113         \n",
            "15 Levante     -0.03 1.26   0.78    Levante      113         \n",
            "16 Girona      -0.18 1.07   0.83    Girona        76         \n",
            "17 Espanol     -0.21 0.93   0.93    Espanol      113         \n",
            "18 Alaves      -0.23 0.95   0.90    Alaves       113         \n",
            "19 Leganes     -0.31 0.82   0.98    Leganes      113         \n",
            "20 Valladolid  -0.33 0.79   1.00    Valladolid    75         \n",
            "21 Huesca      -0.35 1.09   0.72    Huesca        38         \n",
            "22 Mallorca    -0.41 1.02   0.74    Mallorca      37         \n",
            "23 Vallecano   -0.51 1.04   0.67    Vallecano     38         \n",
            "24 La Coruna   -0.82 0.94   0.60    La Coruna     38         \n",
            "25 Malaga      -1.17 0.58   0.76    Malaga        38         \n",
            "26 Las Palmas  -1.43 0.59   0.63    Las Palmas    38         \n"
          ],
          "name": "stdout"
        }
      ]
    },
    {
      "cell_type": "markdown",
      "metadata": {
        "id": "D1-1DiPL6B7D"
      },
      "source": [
        "4. Finalmente estima las probabilidades de los eventos, el equipo de casa gana, el equipo visitante gana o el resultado es un empate para los partidos que se jugaron en la última fecha del vector de fechas. Esto lo puedes hacer con ayuda de la función `predict` y usando como argumentos `ranking` y `fecha[n]` que deberá especificar en date.\n",
        "\n",
        " Con el análisis anterior, se usa como argumento de la función `predict`, para determinar las probabilidades de los eventos mencionados para la última fecha (partido), `fecha[n]`."
      ]
    },
    {
      "cell_type": "code",
      "metadata": {
        "colab": {
          "base_uri": "https://localhost:8080/"
        },
        "id": "voNIb_mj6U24",
        "outputId": "55bfa02f-13bd-4dc5-fefc-9788de458e82"
      },
      "source": [
        "predict(ranking, date = fecha[n])"
      ],
      "execution_count": 16,
      "outputs": [
        {
          "output_type": "stream",
          "text": [
            "Predicted Match Results for 1900-05-01 to 2100-06-01\n",
            "Model based on data from 2017-08-18 to 2020-07-16\n",
            "---------------------------------------------\n",
            "2020-07-19 Alaves vs Barcelona, HW 9%, AW 75%, T 16%, pred score 0.7-2.5  actual: AW (0-5)\n",
            "2020-07-19 Valladolid vs Betis, HW 29%, AW 43%, T 28%, pred score 1-1.3  actual: HW (2-0)\n",
            "2020-07-19 Villarreal vs Eibar, HW 45%, AW 30%, T 25%, pred score 1.5-1.2  actual: HW (4-0)\n",
            "2020-07-19 Ath Madrid vs Sociedad, HW 54%, AW 20%, T 26%, pred score 1.5-0.8  actual: T (1-1)\n",
            "2020-07-19 Espanol vs Celta, HW 32%, AW 41%, T 27%, pred score 1.2-1.4  actual: T (0-0)\n",
            "2020-07-19 Granada vs Ath Bilbao, HW 39%, AW 31%, T 29%, pred score 1.2-1  actual: HW (4-0)\n",
            "2020-07-19 Leganes vs Real Madrid, HW 13%, AW 66%, T 21%, pred score 0.7-1.9  actual: T (2-2)\n",
            "2020-07-19 Levante vs Getafe, HW 25%, AW 48%, T 27%, pred score 0.9-1.4  actual: HW (1-0)\n",
            "2020-07-19 Osasuna vs Mallorca, HW 48%, AW 27%, T 25%, pred score 1.6-1.1  actual: T (2-2)\n",
            "2020-07-19 Sevilla vs Valencia, HW 34%, AW 39%, T 26%, pred score 1.2-1.4  actual: HW (1-0)\n"
          ],
          "name": "stdout"
        }
      ]
    }
  ]
}